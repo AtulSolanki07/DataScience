{
 "cells": [
  {
   "cell_type": "markdown",
   "id": "104781e3",
   "metadata": {},
   "source": [
    "# Part 1: Machine Learning Models\n",
    "\n",
    "- You work for an office transport company. \n",
    "- You are in discussions with ABC Consulting company for providing transport for their employees.\n",
    "- For this purpose, you are tasked with understanding how do the employees of ABC Consulting prefer to commute presently (between home and office).\n",
    "- Based on the parameters like age, salary, work experience etc. given in the data set ‘cars.csv’, you are required to \n",
    "predict the preferred mode of transport.\n",
    "- The project requires you to build several Machine Learning models and compare them so that the model can be finalised.\n"
   ]
  },
  {
   "cell_type": "markdown",
   "id": "3e4d5f8f",
   "metadata": {},
   "source": [
    "## Data Dictionary\n",
    "- Age : Age of the Employee in Years\n",
    "- Gender : Gender of the Employee\n",
    "- Engineer : For Engineer =1 , Non Engineer =0\n",
    "- MBA : For MBA =1 , Non MBA =0\n",
    "- Work Exp : Experience in years\n",
    "- Salary : Salary in Lakhs per Annum\n",
    "- Distance : Distance in Kms from Home to Office\n",
    "- license : If Employee has Driving Licence 1, If not, then 0\n",
    "- Transport : Mode of Transport\n",
    "\n",
    "- The objective is to build various Machine Learning models on this data set and based on the accuracy \n",
    "metrics decide which model is to be finalised for finally predicting the mode of transport chosen by the \n",
    "employee.\n"
   ]
  },
  {
   "cell_type": "markdown",
   "id": "d08d80e9",
   "metadata": {},
   "source": [
    "## Upload Required Libraries"
   ]
  },
  {
   "cell_type": "code",
   "execution_count": 1,
   "id": "fd28e4c3",
   "metadata": {},
   "outputs": [],
   "source": [
    "# Pandas and Numpy libraries\n",
    "import pandas as pd\n",
    "import numpy as np\n",
    "# For preprocessing the data\n",
    "from sklearn import preprocessing\n",
    "# To split the dataset into train and test datasets\n",
    "from sklearn.model_selection import train_test_split\n",
    "# To model the Gaussian Navie Bayes classifier\n",
    "from sklearn.naive_bayes import GaussianNB\n",
    "# To calculate the accuracy score of the model\n",
    "from sklearn.metrics import accuracy_score\n",
    "import seaborn as sns\n",
    "import matplotlib.pyplot as plt\n",
    "from scipy.stats import zscore\n",
    "import warnings \n",
    "warnings.filterwarnings( \"ignore\")\n",
    "\n",
    "from sklearn.tree import DecisionTreeClassifier\n",
    "from sklearn.ensemble import RandomForestClassifier\n",
    "from sklearn.model_selection import train_test_split\n",
    "from sklearn.metrics import roc_auc_score,roc_curve,classification_report,confusion_matrix\n",
    "from sklearn.preprocessing import StandardScaler\n",
    "from sklearn.model_selection import GridSearchCV\n",
    "\n"
   ]
  },
  {
   "cell_type": "markdown",
   "id": "bf864075",
   "metadata": {},
   "source": [
    "## Importing data"
   ]
  },
  {
   "cell_type": "code",
   "execution_count": 2,
   "id": "3fbf79ad",
   "metadata": {},
   "outputs": [],
   "source": [
    "df = pd.read_csv(\"C:/Users/Atul Solanki/Desktop/ML PROJECT/cars.csv\")"
   ]
  },
  {
   "cell_type": "markdown",
   "id": "d7441d35",
   "metadata": {},
   "source": [
    "# Basic data summary, Univariate, Bivariate analysis, graphs, checking correlations, outliers and missing values treatment (if necessary) and check the basic descriptive statistics of the dataset."
   ]
  },
  {
   "cell_type": "code",
   "execution_count": 3,
   "id": "ad3e2b31",
   "metadata": {},
   "outputs": [
    {
     "data": {
      "text/html": [
       "<div>\n",
       "<style scoped>\n",
       "    .dataframe tbody tr th:only-of-type {\n",
       "        vertical-align: middle;\n",
       "    }\n",
       "\n",
       "    .dataframe tbody tr th {\n",
       "        vertical-align: top;\n",
       "    }\n",
       "\n",
       "    .dataframe thead th {\n",
       "        text-align: right;\n",
       "    }\n",
       "</style>\n",
       "<table border=\"1\" class=\"dataframe\">\n",
       "  <thead>\n",
       "    <tr style=\"text-align: right;\">\n",
       "      <th></th>\n",
       "      <th>Age</th>\n",
       "      <th>Gender</th>\n",
       "      <th>Engineer</th>\n",
       "      <th>MBA</th>\n",
       "      <th>Work Exp</th>\n",
       "      <th>Salary</th>\n",
       "      <th>Distance</th>\n",
       "      <th>license</th>\n",
       "      <th>Transport</th>\n",
       "    </tr>\n",
       "  </thead>\n",
       "  <tbody>\n",
       "    <tr>\n",
       "      <th>0</th>\n",
       "      <td>28</td>\n",
       "      <td>Male</td>\n",
       "      <td>0</td>\n",
       "      <td>0</td>\n",
       "      <td>4</td>\n",
       "      <td>14.3</td>\n",
       "      <td>3.2</td>\n",
       "      <td>0</td>\n",
       "      <td>Public Transport</td>\n",
       "    </tr>\n",
       "    <tr>\n",
       "      <th>1</th>\n",
       "      <td>23</td>\n",
       "      <td>Female</td>\n",
       "      <td>1</td>\n",
       "      <td>0</td>\n",
       "      <td>4</td>\n",
       "      <td>8.3</td>\n",
       "      <td>3.3</td>\n",
       "      <td>0</td>\n",
       "      <td>Public Transport</td>\n",
       "    </tr>\n",
       "    <tr>\n",
       "      <th>2</th>\n",
       "      <td>29</td>\n",
       "      <td>Male</td>\n",
       "      <td>1</td>\n",
       "      <td>0</td>\n",
       "      <td>7</td>\n",
       "      <td>13.4</td>\n",
       "      <td>4.1</td>\n",
       "      <td>0</td>\n",
       "      <td>Public Transport</td>\n",
       "    </tr>\n",
       "    <tr>\n",
       "      <th>3</th>\n",
       "      <td>28</td>\n",
       "      <td>Female</td>\n",
       "      <td>1</td>\n",
       "      <td>1</td>\n",
       "      <td>5</td>\n",
       "      <td>13.4</td>\n",
       "      <td>4.5</td>\n",
       "      <td>0</td>\n",
       "      <td>Public Transport</td>\n",
       "    </tr>\n",
       "    <tr>\n",
       "      <th>4</th>\n",
       "      <td>27</td>\n",
       "      <td>Male</td>\n",
       "      <td>1</td>\n",
       "      <td>0</td>\n",
       "      <td>4</td>\n",
       "      <td>13.4</td>\n",
       "      <td>4.6</td>\n",
       "      <td>0</td>\n",
       "      <td>Public Transport</td>\n",
       "    </tr>\n",
       "  </tbody>\n",
       "</table>\n",
       "</div>"
      ],
      "text/plain": [
       "   Age  Gender  Engineer  MBA  Work Exp  Salary  Distance  license  \\\n",
       "0   28    Male         0    0         4    14.3       3.2        0   \n",
       "1   23  Female         1    0         4     8.3       3.3        0   \n",
       "2   29    Male         1    0         7    13.4       4.1        0   \n",
       "3   28  Female         1    1         5    13.4       4.5        0   \n",
       "4   27    Male         1    0         4    13.4       4.6        0   \n",
       "\n",
       "          Transport  \n",
       "0  Public Transport  \n",
       "1  Public Transport  \n",
       "2  Public Transport  \n",
       "3  Public Transport  \n",
       "4  Public Transport  "
      ]
     },
     "execution_count": 3,
     "metadata": {},
     "output_type": "execute_result"
    }
   ],
   "source": [
    "df.head()"
   ]
  },
  {
   "cell_type": "code",
   "execution_count": 4,
   "id": "7e7aefbc",
   "metadata": {},
   "outputs": [
    {
     "data": {
      "text/plain": [
       "(444, 9)"
      ]
     },
     "execution_count": 4,
     "metadata": {},
     "output_type": "execute_result"
    }
   ],
   "source": [
    "df.shape"
   ]
  },
  {
   "cell_type": "code",
   "execution_count": 5,
   "id": "bc5e43a9",
   "metadata": {},
   "outputs": [
    {
     "name": "stdout",
     "output_type": "stream",
     "text": [
      "<class 'pandas.core.frame.DataFrame'>\n",
      "RangeIndex: 444 entries, 0 to 443\n",
      "Data columns (total 9 columns):\n",
      " #   Column     Non-Null Count  Dtype  \n",
      "---  ------     --------------  -----  \n",
      " 0   Age        444 non-null    int64  \n",
      " 1   Gender     444 non-null    object \n",
      " 2   Engineer   444 non-null    int64  \n",
      " 3   MBA        444 non-null    int64  \n",
      " 4   Work Exp   444 non-null    int64  \n",
      " 5   Salary     444 non-null    float64\n",
      " 6   Distance   444 non-null    float64\n",
      " 7   license    444 non-null    int64  \n",
      " 8   Transport  444 non-null    object \n",
      "dtypes: float64(2), int64(5), object(2)\n",
      "memory usage: 31.3+ KB\n"
     ]
    }
   ],
   "source": [
    "df.info()"
   ]
  },
  {
   "cell_type": "code",
   "execution_count": 6,
   "id": "a9b4f230",
   "metadata": {},
   "outputs": [
    {
     "data": {
      "text/html": [
       "<div>\n",
       "<style scoped>\n",
       "    .dataframe tbody tr th:only-of-type {\n",
       "        vertical-align: middle;\n",
       "    }\n",
       "\n",
       "    .dataframe tbody tr th {\n",
       "        vertical-align: top;\n",
       "    }\n",
       "\n",
       "    .dataframe thead th {\n",
       "        text-align: right;\n",
       "    }\n",
       "</style>\n",
       "<table border=\"1\" class=\"dataframe\">\n",
       "  <thead>\n",
       "    <tr style=\"text-align: right;\">\n",
       "      <th></th>\n",
       "      <th>count</th>\n",
       "      <th>unique</th>\n",
       "      <th>top</th>\n",
       "      <th>freq</th>\n",
       "      <th>mean</th>\n",
       "      <th>std</th>\n",
       "      <th>min</th>\n",
       "      <th>25%</th>\n",
       "      <th>50%</th>\n",
       "      <th>75%</th>\n",
       "      <th>max</th>\n",
       "    </tr>\n",
       "  </thead>\n",
       "  <tbody>\n",
       "    <tr>\n",
       "      <th>Age</th>\n",
       "      <td>444.0</td>\n",
       "      <td>NaN</td>\n",
       "      <td>NaN</td>\n",
       "      <td>NaN</td>\n",
       "      <td>27.747748</td>\n",
       "      <td>4.41671</td>\n",
       "      <td>18.0</td>\n",
       "      <td>25.0</td>\n",
       "      <td>27.0</td>\n",
       "      <td>30.0</td>\n",
       "      <td>43.0</td>\n",
       "    </tr>\n",
       "    <tr>\n",
       "      <th>Gender</th>\n",
       "      <td>444</td>\n",
       "      <td>2</td>\n",
       "      <td>Male</td>\n",
       "      <td>316</td>\n",
       "      <td>NaN</td>\n",
       "      <td>NaN</td>\n",
       "      <td>NaN</td>\n",
       "      <td>NaN</td>\n",
       "      <td>NaN</td>\n",
       "      <td>NaN</td>\n",
       "      <td>NaN</td>\n",
       "    </tr>\n",
       "    <tr>\n",
       "      <th>Engineer</th>\n",
       "      <td>444.0</td>\n",
       "      <td>NaN</td>\n",
       "      <td>NaN</td>\n",
       "      <td>NaN</td>\n",
       "      <td>0.754505</td>\n",
       "      <td>0.430866</td>\n",
       "      <td>0.0</td>\n",
       "      <td>1.0</td>\n",
       "      <td>1.0</td>\n",
       "      <td>1.0</td>\n",
       "      <td>1.0</td>\n",
       "    </tr>\n",
       "    <tr>\n",
       "      <th>MBA</th>\n",
       "      <td>444.0</td>\n",
       "      <td>NaN</td>\n",
       "      <td>NaN</td>\n",
       "      <td>NaN</td>\n",
       "      <td>0.252252</td>\n",
       "      <td>0.434795</td>\n",
       "      <td>0.0</td>\n",
       "      <td>0.0</td>\n",
       "      <td>0.0</td>\n",
       "      <td>1.0</td>\n",
       "      <td>1.0</td>\n",
       "    </tr>\n",
       "    <tr>\n",
       "      <th>Work Exp</th>\n",
       "      <td>444.0</td>\n",
       "      <td>NaN</td>\n",
       "      <td>NaN</td>\n",
       "      <td>NaN</td>\n",
       "      <td>6.29955</td>\n",
       "      <td>5.112098</td>\n",
       "      <td>0.0</td>\n",
       "      <td>3.0</td>\n",
       "      <td>5.0</td>\n",
       "      <td>8.0</td>\n",
       "      <td>24.0</td>\n",
       "    </tr>\n",
       "    <tr>\n",
       "      <th>Salary</th>\n",
       "      <td>444.0</td>\n",
       "      <td>NaN</td>\n",
       "      <td>NaN</td>\n",
       "      <td>NaN</td>\n",
       "      <td>16.238739</td>\n",
       "      <td>10.453851</td>\n",
       "      <td>6.5</td>\n",
       "      <td>9.8</td>\n",
       "      <td>13.6</td>\n",
       "      <td>15.725</td>\n",
       "      <td>57.0</td>\n",
       "    </tr>\n",
       "    <tr>\n",
       "      <th>Distance</th>\n",
       "      <td>444.0</td>\n",
       "      <td>NaN</td>\n",
       "      <td>NaN</td>\n",
       "      <td>NaN</td>\n",
       "      <td>11.323198</td>\n",
       "      <td>3.606149</td>\n",
       "      <td>3.2</td>\n",
       "      <td>8.8</td>\n",
       "      <td>11.0</td>\n",
       "      <td>13.425</td>\n",
       "      <td>23.4</td>\n",
       "    </tr>\n",
       "    <tr>\n",
       "      <th>license</th>\n",
       "      <td>444.0</td>\n",
       "      <td>NaN</td>\n",
       "      <td>NaN</td>\n",
       "      <td>NaN</td>\n",
       "      <td>0.234234</td>\n",
       "      <td>0.423997</td>\n",
       "      <td>0.0</td>\n",
       "      <td>0.0</td>\n",
       "      <td>0.0</td>\n",
       "      <td>0.0</td>\n",
       "      <td>1.0</td>\n",
       "    </tr>\n",
       "    <tr>\n",
       "      <th>Transport</th>\n",
       "      <td>444</td>\n",
       "      <td>2</td>\n",
       "      <td>Public Transport</td>\n",
       "      <td>300</td>\n",
       "      <td>NaN</td>\n",
       "      <td>NaN</td>\n",
       "      <td>NaN</td>\n",
       "      <td>NaN</td>\n",
       "      <td>NaN</td>\n",
       "      <td>NaN</td>\n",
       "      <td>NaN</td>\n",
       "    </tr>\n",
       "  </tbody>\n",
       "</table>\n",
       "</div>"
      ],
      "text/plain": [
       "           count unique               top freq       mean        std   min  \\\n",
       "Age        444.0    NaN               NaN  NaN  27.747748    4.41671  18.0   \n",
       "Gender       444      2              Male  316        NaN        NaN   NaN   \n",
       "Engineer   444.0    NaN               NaN  NaN   0.754505   0.430866   0.0   \n",
       "MBA        444.0    NaN               NaN  NaN   0.252252   0.434795   0.0   \n",
       "Work Exp   444.0    NaN               NaN  NaN    6.29955   5.112098   0.0   \n",
       "Salary     444.0    NaN               NaN  NaN  16.238739  10.453851   6.5   \n",
       "Distance   444.0    NaN               NaN  NaN  11.323198   3.606149   3.2   \n",
       "license    444.0    NaN               NaN  NaN   0.234234   0.423997   0.0   \n",
       "Transport    444      2  Public Transport  300        NaN        NaN   NaN   \n",
       "\n",
       "            25%   50%     75%   max  \n",
       "Age        25.0  27.0    30.0  43.0  \n",
       "Gender      NaN   NaN     NaN   NaN  \n",
       "Engineer    1.0   1.0     1.0   1.0  \n",
       "MBA         0.0   0.0     1.0   1.0  \n",
       "Work Exp    3.0   5.0     8.0  24.0  \n",
       "Salary      9.8  13.6  15.725  57.0  \n",
       "Distance    8.8  11.0  13.425  23.4  \n",
       "license     0.0   0.0     0.0   1.0  \n",
       "Transport   NaN   NaN     NaN   NaN  "
      ]
     },
     "execution_count": 6,
     "metadata": {},
     "output_type": "execute_result"
    }
   ],
   "source": [
    "df.describe(include=\"all\").T"
   ]
  },
  {
   "cell_type": "code",
   "execution_count": 7,
   "id": "6c304501",
   "metadata": {},
   "outputs": [],
   "source": [
    "df[\"Engineer\"] = pd.Categorical(df.Engineer)\n",
    "df[\"MBA\"]      = pd.Categorical(df.MBA)\n",
    "df[\"license\"]  = pd.Categorical(df.license)\n",
    "df[\"Gender\"]   = pd.Categorical(df.Gender)\n",
    "df[\"Transport\"]= pd.Categorical(df.Transport)"
   ]
  },
  {
   "cell_type": "code",
   "execution_count": 8,
   "id": "209c98dd",
   "metadata": {},
   "outputs": [],
   "source": [
    "#Outliers\n",
    "df_num = df.select_dtypes(exclude=['object','category']).reset_index()\n",
    "df_num = df_num.drop([\"index\"],axis=1)\n",
    "df_cat = df.select_dtypes(include=['object','category']).reset_index()\n",
    "df_cat = df_cat.drop(\"index\",axis=1)"
   ]
  },
  {
   "cell_type": "code",
   "execution_count": 9,
   "id": "d40144a1",
   "metadata": {},
   "outputs": [
    {
     "data": {
      "text/html": [
       "<div>\n",
       "<style scoped>\n",
       "    .dataframe tbody tr th:only-of-type {\n",
       "        vertical-align: middle;\n",
       "    }\n",
       "\n",
       "    .dataframe tbody tr th {\n",
       "        vertical-align: top;\n",
       "    }\n",
       "\n",
       "    .dataframe thead th {\n",
       "        text-align: right;\n",
       "    }\n",
       "</style>\n",
       "<table border=\"1\" class=\"dataframe\">\n",
       "  <thead>\n",
       "    <tr style=\"text-align: right;\">\n",
       "      <th></th>\n",
       "      <th>Age</th>\n",
       "      <th>Work Exp</th>\n",
       "      <th>Salary</th>\n",
       "      <th>Distance</th>\n",
       "    </tr>\n",
       "  </thead>\n",
       "  <tbody>\n",
       "    <tr>\n",
       "      <th>0</th>\n",
       "      <td>28</td>\n",
       "      <td>4</td>\n",
       "      <td>14.3</td>\n",
       "      <td>3.2</td>\n",
       "    </tr>\n",
       "    <tr>\n",
       "      <th>1</th>\n",
       "      <td>23</td>\n",
       "      <td>4</td>\n",
       "      <td>8.3</td>\n",
       "      <td>3.3</td>\n",
       "    </tr>\n",
       "    <tr>\n",
       "      <th>2</th>\n",
       "      <td>29</td>\n",
       "      <td>7</td>\n",
       "      <td>13.4</td>\n",
       "      <td>4.1</td>\n",
       "    </tr>\n",
       "    <tr>\n",
       "      <th>3</th>\n",
       "      <td>28</td>\n",
       "      <td>5</td>\n",
       "      <td>13.4</td>\n",
       "      <td>4.5</td>\n",
       "    </tr>\n",
       "    <tr>\n",
       "      <th>4</th>\n",
       "      <td>27</td>\n",
       "      <td>4</td>\n",
       "      <td>13.4</td>\n",
       "      <td>4.6</td>\n",
       "    </tr>\n",
       "  </tbody>\n",
       "</table>\n",
       "</div>"
      ],
      "text/plain": [
       "   Age  Work Exp  Salary  Distance\n",
       "0   28         4    14.3       3.2\n",
       "1   23         4     8.3       3.3\n",
       "2   29         7    13.4       4.1\n",
       "3   28         5    13.4       4.5\n",
       "4   27         4    13.4       4.6"
      ]
     },
     "execution_count": 9,
     "metadata": {},
     "output_type": "execute_result"
    }
   ],
   "source": [
    "df_num.head()"
   ]
  },
  {
   "cell_type": "code",
   "execution_count": 10,
   "id": "e6ad30ee",
   "metadata": {},
   "outputs": [
    {
     "data": {
      "text/html": [
       "<div>\n",
       "<style scoped>\n",
       "    .dataframe tbody tr th:only-of-type {\n",
       "        vertical-align: middle;\n",
       "    }\n",
       "\n",
       "    .dataframe tbody tr th {\n",
       "        vertical-align: top;\n",
       "    }\n",
       "\n",
       "    .dataframe thead th {\n",
       "        text-align: right;\n",
       "    }\n",
       "</style>\n",
       "<table border=\"1\" class=\"dataframe\">\n",
       "  <thead>\n",
       "    <tr style=\"text-align: right;\">\n",
       "      <th></th>\n",
       "      <th>Gender</th>\n",
       "      <th>Engineer</th>\n",
       "      <th>MBA</th>\n",
       "      <th>license</th>\n",
       "      <th>Transport</th>\n",
       "    </tr>\n",
       "  </thead>\n",
       "  <tbody>\n",
       "    <tr>\n",
       "      <th>0</th>\n",
       "      <td>Male</td>\n",
       "      <td>0</td>\n",
       "      <td>0</td>\n",
       "      <td>0</td>\n",
       "      <td>Public Transport</td>\n",
       "    </tr>\n",
       "    <tr>\n",
       "      <th>1</th>\n",
       "      <td>Female</td>\n",
       "      <td>1</td>\n",
       "      <td>0</td>\n",
       "      <td>0</td>\n",
       "      <td>Public Transport</td>\n",
       "    </tr>\n",
       "    <tr>\n",
       "      <th>2</th>\n",
       "      <td>Male</td>\n",
       "      <td>1</td>\n",
       "      <td>0</td>\n",
       "      <td>0</td>\n",
       "      <td>Public Transport</td>\n",
       "    </tr>\n",
       "    <tr>\n",
       "      <th>3</th>\n",
       "      <td>Female</td>\n",
       "      <td>1</td>\n",
       "      <td>1</td>\n",
       "      <td>0</td>\n",
       "      <td>Public Transport</td>\n",
       "    </tr>\n",
       "    <tr>\n",
       "      <th>4</th>\n",
       "      <td>Male</td>\n",
       "      <td>1</td>\n",
       "      <td>0</td>\n",
       "      <td>0</td>\n",
       "      <td>Public Transport</td>\n",
       "    </tr>\n",
       "  </tbody>\n",
       "</table>\n",
       "</div>"
      ],
      "text/plain": [
       "   Gender Engineer MBA license         Transport\n",
       "0    Male        0   0       0  Public Transport\n",
       "1  Female        1   0       0  Public Transport\n",
       "2    Male        1   0       0  Public Transport\n",
       "3  Female        1   1       0  Public Transport\n",
       "4    Male        1   0       0  Public Transport"
      ]
     },
     "execution_count": 10,
     "metadata": {},
     "output_type": "execute_result"
    }
   ],
   "source": [
    "df_cat.head()"
   ]
  },
  {
   "cell_type": "code",
   "execution_count": 11,
   "id": "69e15e4f",
   "metadata": {},
   "outputs": [
    {
     "data": {
      "image/png": "[encoded data removed]",
      "text/plain": [
       "<Figure size 1440x720 with 4 Axes>"
      ]
     },
     "metadata": {
      "needs_background": "light"
     },
     "output_type": "display_data"
    },
    {
     "data": {
      "image/png": "[encoded data removed]",
      "text/plain": [
       "<Figure size 1440x720 with 4 Axes>"
      ]
     },
     "metadata": {
      "needs_background": "light"
     },
     "output_type": "display_data"
    }
   ],
   "source": [
    "######################################################################################################\n",
    "plt.figure(figsize = (20,10))\n",
    "feature_list_num = df_num.columns\n",
    "for i in range(len(feature_list_num)):\n",
    "    plt.subplot(5 ,len(df_num.columns), i + 1)\n",
    "    sns.histplot(x=df_num[feature_list_num[i]])\n",
    "    plt.title(format(feature_list_num[i]))\n",
    "    plt.tight_layout()\n",
    "plt.figure(figsize = (20,10))\n",
    "feature_list_num = df_num.columns\n",
    "for i in range(len(feature_list_num)):\n",
    "    plt.subplot(5 ,len(df_num.columns), i + 1)\n",
    "    sns.boxplot(x=df_num[feature_list_num[i]])\n",
    "    plt.title(format(feature_list_num[i]))\n",
    "    plt.tight_layout()    \n",
    "######################################################################################################"
   ]
  },
  {
   "cell_type": "code",
   "execution_count": 12,
   "id": "89ae6293",
   "metadata": {},
   "outputs": [
    {
     "data": {
      "image/png": "[encoded data removed]",
      "text/plain": [
       "<Figure size 1440x1440 with 5 Axes>"
      ]
     },
     "metadata": {
      "needs_background": "light"
     },
     "output_type": "display_data"
    }
   ],
   "source": [
    "\n",
    "plt.figure(figsize = (20,20))\n",
    "feature_list_cat = df_cat.columns\n",
    "for i in range(len(feature_list_cat)):\n",
    "    plt.subplot(len(feature_list_cat) ,5, i + 1)\n",
    "    sns.countplot(x=df_cat[feature_list_cat[i]],order = df_cat[feature_list_cat[i]].value_counts().index)\n",
    "    #plt.tight_layout();"
   ]
  },
  {
   "cell_type": "code",
   "execution_count": 13,
   "id": "f3f2d8d7",
   "metadata": {},
   "outputs": [
    {
     "data": {
      "image/png": "[encoded data removed]",
      "text/plain": [
       "<Figure size 720x720 with 20 Axes>"
      ]
     },
     "metadata": {
      "needs_background": "light"
     },
     "output_type": "display_data"
    }
   ],
   "source": [
    "sns.pairplot(df_num);"
   ]
  },
  {
   "cell_type": "code",
   "execution_count": 14,
   "id": "9962620e",
   "metadata": {},
   "outputs": [
    {
     "data": {
      "image/png": "[encoded data removed]",
      "text/plain": [
       "<Figure size 720x576 with 2 Axes>"
      ]
     },
     "metadata": {
      "needs_background": "light"
     },
     "output_type": "display_data"
    }
   ],
   "source": [
    "corr=df_num.corr()\n",
    "round(corr,2)\n",
    "plt.subplots(figsize = (10,8))\n",
    "mask=np.triu(np.ones_like(corr,dtype=np.bool_))\n",
    "sns.heatmap(round(corr,2),annot=True,mask=mask);"
   ]
  },
  {
   "cell_type": "code",
   "execution_count": 15,
   "id": "00f10fe2",
   "metadata": {},
   "outputs": [
    {
     "name": "stdout",
     "output_type": "stream",
     "text": [
      "GENDER :  2\n",
      "Female    128\n",
      "Male      316\n",
      "Name: Gender, dtype: int64\n",
      "\n",
      "\n",
      "ENGINEER :  2\n",
      "0    109\n",
      "1    335\n",
      "Name: Engineer, dtype: int64\n",
      "\n",
      "\n",
      "MBA :  2\n",
      "1    112\n",
      "0    332\n",
      "Name: MBA, dtype: int64\n",
      "\n",
      "\n",
      "LICENSE :  2\n",
      "1    104\n",
      "0    340\n",
      "Name: license, dtype: int64\n",
      "\n",
      "\n",
      "TRANSPORT :  2\n",
      "Private Transport    144\n",
      "Public Transport     300\n",
      "Name: Transport, dtype: int64\n",
      "\n",
      "\n"
     ]
    }
   ],
   "source": [
    "for column in df_cat.columns:\n",
    "        print(column.upper(),': ',df_cat[column].nunique())\n",
    "        print(df_cat[column].value_counts().sort_values())\n",
    "        print('\\n')"
   ]
  },
  {
   "cell_type": "code",
   "execution_count": 16,
   "id": "a48f2019",
   "metadata": {},
   "outputs": [],
   "source": [
    "df = pd.read_csv(\"C:/Users/Atul Solanki/Desktop/ML PROJECT/cars.csv\")"
   ]
  },
  {
   "cell_type": "code",
   "execution_count": 17,
   "id": "785e2751",
   "metadata": {},
   "outputs": [],
   "source": [
    "#male=0,female=1\n",
    "#Public Transport=0, Private Transport=1\n",
    "df.replace(\"Male\", 0 , inplace =True)\n",
    "df.replace(\"Female\", 1 , inplace =True)\n",
    "df.replace(\"Public Transport\", 0 , inplace =True)\n",
    "df.replace(\"Private Transport\", 1 , inplace =True)"
   ]
  },
  {
   "cell_type": "code",
   "execution_count": 18,
   "id": "dab354e0",
   "metadata": {},
   "outputs": [
    {
     "data": {
      "text/html": [
       "<div>\n",
       "<style scoped>\n",
       "    .dataframe tbody tr th:only-of-type {\n",
       "        vertical-align: middle;\n",
       "    }\n",
       "\n",
       "    .dataframe tbody tr th {\n",
       "        vertical-align: top;\n",
       "    }\n",
       "\n",
       "    .dataframe thead th {\n",
       "        text-align: right;\n",
       "    }\n",
       "</style>\n",
       "<table border=\"1\" class=\"dataframe\">\n",
       "  <thead>\n",
       "    <tr style=\"text-align: right;\">\n",
       "      <th></th>\n",
       "      <th>Age</th>\n",
       "      <th>Gender</th>\n",
       "      <th>Engineer</th>\n",
       "      <th>MBA</th>\n",
       "      <th>Work Exp</th>\n",
       "      <th>Salary</th>\n",
       "      <th>Distance</th>\n",
       "      <th>license</th>\n",
       "      <th>Transport</th>\n",
       "    </tr>\n",
       "  </thead>\n",
       "  <tbody>\n",
       "    <tr>\n",
       "      <th>0</th>\n",
       "      <td>28</td>\n",
       "      <td>0</td>\n",
       "      <td>0</td>\n",
       "      <td>0</td>\n",
       "      <td>4</td>\n",
       "      <td>14.3</td>\n",
       "      <td>3.2</td>\n",
       "      <td>0</td>\n",
       "      <td>0</td>\n",
       "    </tr>\n",
       "    <tr>\n",
       "      <th>1</th>\n",
       "      <td>23</td>\n",
       "      <td>1</td>\n",
       "      <td>1</td>\n",
       "      <td>0</td>\n",
       "      <td>4</td>\n",
       "      <td>8.3</td>\n",
       "      <td>3.3</td>\n",
       "      <td>0</td>\n",
       "      <td>0</td>\n",
       "    </tr>\n",
       "    <tr>\n",
       "      <th>2</th>\n",
       "      <td>29</td>\n",
       "      <td>0</td>\n",
       "      <td>1</td>\n",
       "      <td>0</td>\n",
       "      <td>7</td>\n",
       "      <td>13.4</td>\n",
       "      <td>4.1</td>\n",
       "      <td>0</td>\n",
       "      <td>0</td>\n",
       "    </tr>\n",
       "    <tr>\n",
       "      <th>3</th>\n",
       "      <td>28</td>\n",
       "      <td>1</td>\n",
       "      <td>1</td>\n",
       "      <td>1</td>\n",
       "      <td>5</td>\n",
       "      <td>13.4</td>\n",
       "      <td>4.5</td>\n",
       "      <td>0</td>\n",
       "      <td>0</td>\n",
       "    </tr>\n",
       "    <tr>\n",
       "      <th>4</th>\n",
       "      <td>27</td>\n",
       "      <td>0</td>\n",
       "      <td>1</td>\n",
       "      <td>0</td>\n",
       "      <td>4</td>\n",
       "      <td>13.4</td>\n",
       "      <td>4.6</td>\n",
       "      <td>0</td>\n",
       "      <td>0</td>\n",
       "    </tr>\n",
       "  </tbody>\n",
       "</table>\n",
       "</div>"
      ],
      "text/plain": [
       "   Age  Gender  Engineer  MBA  Work Exp  Salary  Distance  license  Transport\n",
       "0   28       0         0    0         4    14.3       3.2        0          0\n",
       "1   23       1         1    0         4     8.3       3.3        0          0\n",
       "2   29       0         1    0         7    13.4       4.1        0          0\n",
       "3   28       1         1    1         5    13.4       4.5        0          0\n",
       "4   27       0         1    0         4    13.4       4.6        0          0"
      ]
     },
     "execution_count": 18,
     "metadata": {},
     "output_type": "execute_result"
    }
   ],
   "source": [
    "df.head()"
   ]
  },
  {
   "cell_type": "markdown",
   "id": "7ebb3342",
   "metadata": {},
   "source": [
    "# Split the data into train and test in the ratio 70:30. Is scaling necessary or not?"
   ]
  },
  {
   "cell_type": "code",
   "execution_count": 19,
   "id": "35e70980",
   "metadata": {},
   "outputs": [
    {
     "data": {
      "text/html": [
       "<div>\n",
       "<style scoped>\n",
       "    .dataframe tbody tr th:only-of-type {\n",
       "        vertical-align: middle;\n",
       "    }\n",
       "\n",
       "    .dataframe tbody tr th {\n",
       "        vertical-align: top;\n",
       "    }\n",
       "\n",
       "    .dataframe thead th {\n",
       "        text-align: right;\n",
       "    }\n",
       "</style>\n",
       "<table border=\"1\" class=\"dataframe\">\n",
       "  <thead>\n",
       "    <tr style=\"text-align: right;\">\n",
       "      <th></th>\n",
       "      <th>Age</th>\n",
       "      <th>Gender</th>\n",
       "      <th>Engineer</th>\n",
       "      <th>MBA</th>\n",
       "      <th>Work Exp</th>\n",
       "      <th>Salary</th>\n",
       "      <th>Distance</th>\n",
       "      <th>license</th>\n",
       "    </tr>\n",
       "  </thead>\n",
       "  <tbody>\n",
       "    <tr>\n",
       "      <th>201</th>\n",
       "      <td>29</td>\n",
       "      <td>0</td>\n",
       "      <td>0</td>\n",
       "      <td>0</td>\n",
       "      <td>5</td>\n",
       "      <td>15.9</td>\n",
       "      <td>10.5</td>\n",
       "      <td>0</td>\n",
       "    </tr>\n",
       "    <tr>\n",
       "      <th>386</th>\n",
       "      <td>27</td>\n",
       "      <td>0</td>\n",
       "      <td>1</td>\n",
       "      <td>1</td>\n",
       "      <td>6</td>\n",
       "      <td>12.9</td>\n",
       "      <td>15.6</td>\n",
       "      <td>0</td>\n",
       "    </tr>\n",
       "    <tr>\n",
       "      <th>329</th>\n",
       "      <td>27</td>\n",
       "      <td>0</td>\n",
       "      <td>1</td>\n",
       "      <td>0</td>\n",
       "      <td>6</td>\n",
       "      <td>12.9</td>\n",
       "      <td>13.3</td>\n",
       "      <td>0</td>\n",
       "    </tr>\n",
       "    <tr>\n",
       "      <th>249</th>\n",
       "      <td>23</td>\n",
       "      <td>0</td>\n",
       "      <td>1</td>\n",
       "      <td>0</td>\n",
       "      <td>0</td>\n",
       "      <td>6.9</td>\n",
       "      <td>11.7</td>\n",
       "      <td>0</td>\n",
       "    </tr>\n",
       "    <tr>\n",
       "      <th>349</th>\n",
       "      <td>30</td>\n",
       "      <td>0</td>\n",
       "      <td>1</td>\n",
       "      <td>0</td>\n",
       "      <td>7</td>\n",
       "      <td>14.9</td>\n",
       "      <td>14.0</td>\n",
       "      <td>0</td>\n",
       "    </tr>\n",
       "  </tbody>\n",
       "</table>\n",
       "</div>"
      ],
      "text/plain": [
       "     Age  Gender  Engineer  MBA  Work Exp  Salary  Distance  license\n",
       "201   29       0         0    0         5    15.9      10.5        0\n",
       "386   27       0         1    1         6    12.9      15.6        0\n",
       "329   27       0         1    0         6    12.9      13.3        0\n",
       "249   23       0         1    0         0     6.9      11.7        0\n",
       "349   30       0         1    0         7    14.9      14.0        0"
      ]
     },
     "execution_count": 19,
     "metadata": {},
     "output_type": "execute_result"
    }
   ],
   "source": [
    "from sklearn.model_selection import train_test_split\n",
    "\n",
    "x = df.drop(\"Transport\",axis=1)     # Predictor feature columns (8 X m)\n",
    "y = df[\"Transport\"]   # Predicted class (1=True, 0=False) (1 X m)\n",
    "\n",
    "x_train, x_test, y_train, y_test = train_test_split(x, y, test_size = 0.3, random_state=1)\n",
    "\n",
    "x_train.head()"
   ]
  },
  {
   "cell_type": "code",
   "execution_count": 20,
   "id": "3ea657a7",
   "metadata": {},
   "outputs": [
    {
     "name": "stdout",
     "output_type": "stream",
     "text": [
      "69.82% data is in training set\n",
      "30.18% data is in test set\n"
     ]
    }
   ],
   "source": [
    "print(\"{0:0.2f}% data is in training set\".format((len(x_train)/len(df.index)) * 100))\n",
    "print(\"{0:0.2f}% data is in test set\".format((len(x_test)/len(df.index)) * 100))"
   ]
  },
  {
   "cell_type": "code",
   "execution_count": 21,
   "id": "ba51446d",
   "metadata": {},
   "outputs": [
    {
     "name": "stdout",
     "output_type": "stream",
     "text": [
      "Original Private Transport    : 144 (32.43%)\n",
      "Original Public Transport   : 300 (67.57%)\n",
      "\n",
      "Training Private Transport    : 102 (32.90%)\n",
      "Training Public Transport   : 208 (67.10%)\n",
      "\n",
      "Test Private Transport        : 42 (31.34%)\n",
      "Test Public Transport       : 92 (68.66%)\n",
      "\n"
     ]
    }
   ],
   "source": [
    "print(\"Original Private Transport    : {0} ({1:0.2f}%)\".format(len(df.loc[df['Transport'] == 1]), (len(df.loc[df['Transport'] == 1])/len(df.index)) * 100))\n",
    "print(\"Original Public Transport   : {0} ({1:0.2f}%)\".format(len(df.loc[df['Transport'] == 0]), (len(df.loc[df['Transport'] == 0])/len(df.index)) * 100))\n",
    "print(\"\")\n",
    "print(\"Training Private Transport    : {0} ({1:0.2f}%)\".format(len(y_train[y_train[:] == 1]), (len(y_train[y_train[:] == 1])/len(y_train)) * 100))\n",
    "print(\"Training Public Transport   : {0} ({1:0.2f}%)\".format(len(y_train[y_train[:] == 0]), (len(y_train[y_train[:] == 0])/len(y_train)) * 100))\n",
    "print(\"\")\n",
    "print(\"Test Private Transport        : {0} ({1:0.2f}%)\".format(len(y_test[y_test[:] == 1]), (len(y_test[y_test[:] == 1])/len(y_test)) * 100))\n",
    "print(\"Test Public Transport       : {0} ({1:0.2f}%)\".format(len(y_test[y_test[:] == 0]), (len(y_test[y_test[:] == 0])/len(y_test)) * 100))\n",
    "print(\"\")"
   ]
  },
  {
   "cell_type": "markdown",
   "id": "f94aec1b",
   "metadata": {},
   "source": [
    "# Build the following models on the 70% training data and check the performance of these models on the Training as well as the 30% Test data using the various inferences from the Confusion Matrix and plotting a AUC-ROC curve along with the AUC values. Tune the models wherever required for optimum performance.\n",
    "-  Logistic Regression\n",
    "-  Naïve Bayes\n",
    "-  k-Nearest Neighbour\n",
    "-  Linear Discriminant Analysis\t\n",
    "-  Classification And Regression Tree\n",
    "-  Regularised CART\n",
    "-  Random Forest\n",
    "-  Random Forest_tune\t\n",
    "g. Boosting Classifier Model using Gradient boost. "
   ]
  },
  {
   "cell_type": "markdown",
   "id": "c46ad4f0",
   "metadata": {},
   "source": [
    "# Logistic Regression"
   ]
  },
  {
   "cell_type": "markdown",
   "id": "3a790155",
   "metadata": {},
   "source": [
    "### Building and Training the Model"
   ]
  },
  {
   "cell_type": "code",
   "execution_count": 22,
   "id": "822770ff",
   "metadata": {},
   "outputs": [
    {
     "data": {
      "text/html": [
       "<div>\n",
       "<style scoped>\n",
       "    .dataframe tbody tr th:only-of-type {\n",
       "        vertical-align: middle;\n",
       "    }\n",
       "\n",
       "    .dataframe tbody tr th {\n",
       "        vertical-align: top;\n",
       "    }\n",
       "\n",
       "    .dataframe thead th {\n",
       "        text-align: right;\n",
       "    }\n",
       "</style>\n",
       "<table border=\"1\" class=\"dataframe\">\n",
       "  <thead>\n",
       "    <tr style=\"text-align: right;\">\n",
       "      <th></th>\n",
       "      <th>Age</th>\n",
       "      <th>Gender</th>\n",
       "      <th>Engineer</th>\n",
       "      <th>MBA</th>\n",
       "      <th>Work Exp</th>\n",
       "      <th>Salary</th>\n",
       "      <th>Distance</th>\n",
       "      <th>license</th>\n",
       "      <th>intercept</th>\n",
       "    </tr>\n",
       "  </thead>\n",
       "  <tbody>\n",
       "    <tr>\n",
       "      <th>0</th>\n",
       "      <td>-0.231103</td>\n",
       "      <td>1.106932</td>\n",
       "      <td>0.289891</td>\n",
       "      <td>-0.350651</td>\n",
       "      <td>0.125584</td>\n",
       "      <td>0.069515</td>\n",
       "      <td>0.225455</td>\n",
       "      <td>1.862196</td>\n",
       "      <td>0.202497</td>\n",
       "    </tr>\n",
       "  </tbody>\n",
       "</table>\n",
       "</div>"
      ],
      "text/plain": [
       "        Age    Gender  Engineer       MBA  Work Exp    Salary  Distance  \\\n",
       "0 -0.231103  1.106932  0.289891 -0.350651  0.125584  0.069515  0.225455   \n",
       "\n",
       "    license  intercept  \n",
       "0  1.862196   0.202497  "
      ]
     },
     "execution_count": 22,
     "metadata": {},
     "output_type": "execute_result"
    }
   ],
   "source": [
    "from sklearn import metrics\n",
    "from sklearn.linear_model import LogisticRegression\n",
    "\n",
    "# Fit the model on train\n",
    "model = LogisticRegression(solver=\"liblinear\")\n",
    "model.fit(x_train, y_train)\n",
    "\n",
    "coef_df = pd.DataFrame(model.coef_,columns=x.columns)\n",
    "coef_df['intercept'] = model.intercept_\n",
    "coef_df"
   ]
  },
  {
   "cell_type": "markdown",
   "id": "12b3603a",
   "metadata": {},
   "source": [
    "### Making Predictions From Our Model"
   ]
  },
  {
   "cell_type": "code",
   "execution_count": 23,
   "id": "84e62add",
   "metadata": {},
   "outputs": [],
   "source": [
    "#predict on test\n",
    "prediction_train= model.predict(x_train)\n",
    "prediction_test = model.predict(x_test)"
   ]
  },
  {
   "cell_type": "markdown",
   "id": "1a57d9de",
   "metadata": {},
   "source": [
    "### Testing the Performance of our Model"
   ]
  },
  {
   "cell_type": "code",
   "execution_count": 24,
   "id": "a7dd5877",
   "metadata": {},
   "outputs": [],
   "source": [
    "from sklearn import metrics"
   ]
  },
  {
   "cell_type": "code",
   "execution_count": 25,
   "id": "fac24ca1",
   "metadata": {},
   "outputs": [],
   "source": [
    "Acc_Train_LR = model.score(x_train,y_train)\n",
    "Acc_Test_LR  = model.score(x_test ,y_test )"
   ]
  },
  {
   "cell_type": "code",
   "execution_count": 26,
   "id": "8ac1633a",
   "metadata": {},
   "outputs": [],
   "source": [
    "#Mean Absolute Error (MAE)\n",
    "MAE_LR = metrics.mean_absolute_error(y_test, prediction_test)"
   ]
  },
  {
   "cell_type": "code",
   "execution_count": 27,
   "id": "b2c78a7e",
   "metadata": {},
   "outputs": [],
   "source": [
    "#Mean Squared Error (MSE)\n",
    "MSE_LR = metrics.mean_squared_error(y_test, prediction_test)"
   ]
  },
  {
   "cell_type": "code",
   "execution_count": 28,
   "id": "10bf796e",
   "metadata": {},
   "outputs": [],
   "source": [
    "#Root Mean Squared Error (RMSE)\n",
    "RMSE_LR = np.sqrt(metrics.mean_squared_error(y_test, prediction_test))"
   ]
  },
  {
   "cell_type": "markdown",
   "id": "5a1a26fa",
   "metadata": {},
   "source": [
    "### Model Evaluation"
   ]
  },
  {
   "cell_type": "code",
   "execution_count": 29,
   "id": "da12efd0",
   "metadata": {},
   "outputs": [
    {
     "name": "stdout",
     "output_type": "stream",
     "text": [
      "AUC: 0.832\n"
     ]
    },
    {
     "data": {
      "image/png": "[encoded data removed]",
      "text/plain": [
       "<Figure size 432x288 with 1 Axes>"
      ]
     },
     "metadata": {
      "needs_background": "light"
     },
     "output_type": "display_data"
    }
   ],
   "source": [
    "# predict probabilities\n",
    "probs = model.predict_proba(x_train)\n",
    "# keep probabilities for the positive outcome only\n",
    "probs = probs[:, 1]\n",
    "# calculate AUC\n",
    "from sklearn.metrics import roc_auc_score\n",
    "auc_train = roc_auc_score(y_train, probs)\n",
    "print('AUC: %.3f' % auc_train)\n",
    "AUC_train_LR = auc_train\n",
    "# calculate roc curve\n",
    "from sklearn.metrics import roc_curve\n",
    "fpr, tpr, thresholds = roc_curve(y_train, probs)\n",
    "plt.plot([0, 1], [0, 1], linestyle='--')\n",
    "# plot the roc curve for the model\n",
    "plt.plot(fpr, tpr, marker='.')\n",
    "# show the plot\n",
    "plt.show()"
   ]
  },
  {
   "cell_type": "code",
   "execution_count": 30,
   "id": "a535a154",
   "metadata": {},
   "outputs": [
    {
     "name": "stdout",
     "output_type": "stream",
     "text": [
      "AUC: 0.818\n"
     ]
    },
    {
     "data": {
      "image/png": "[encoded data removed]",
      "text/plain": [
       "<Figure size 432x288 with 1 Axes>"
      ]
     },
     "metadata": {
      "needs_background": "light"
     },
     "output_type": "display_data"
    }
   ],
   "source": [
    "# predict probabilities\n",
    "probs = model.predict_proba(x_test)\n",
    "# keep probabilities for the positive outcome only\n",
    "probs = probs[:, 1]\n",
    "# calculate AUC\n",
    "from sklearn.metrics import roc_auc_score\n",
    "auc_test = roc_auc_score(y_test, probs)\n",
    "print('AUC: %.3f' % auc_test)\n",
    "AUC_test_LR = auc_test\n",
    "# calculate roc curve\n",
    "from sklearn.metrics import roc_curve\n",
    "fpr, tpr, thresholds = roc_curve(y_test, probs)\n",
    "plt.plot([0, 1], [0, 1], linestyle='--')\n",
    "# plot the roc curve for the model\n",
    "plt.plot(fpr, tpr, marker='.')\n",
    "# show the plot\n",
    "plt.show()"
   ]
  },
  {
   "cell_type": "markdown",
   "id": "1f4787f2",
   "metadata": {},
   "source": [
    "### Measuring the Performance of a Machine Learning Model"
   ]
  },
  {
   "cell_type": "code",
   "execution_count": 31,
   "id": "f979ea2e",
   "metadata": {},
   "outputs": [
    {
     "name": "stdout",
     "output_type": "stream",
     "text": [
      "Classification Report Train Data\n",
      "              precision    recall  f1-score   support\n",
      "\n",
      "           0       0.80      0.92      0.86       208\n",
      "           1       0.77      0.52      0.62       102\n",
      "\n",
      "    accuracy                           0.79       310\n",
      "   macro avg       0.78      0.72      0.74       310\n",
      "weighted avg       0.79      0.79      0.78       310\n",
      "\n",
      "Classification Report Test Data\n",
      "              precision    recall  f1-score   support\n",
      "\n",
      "           0       0.83      0.92      0.88        92\n",
      "           1       0.78      0.60      0.68        42\n",
      "\n",
      "    accuracy                           0.82       134\n",
      "   macro avg       0.81      0.76      0.78       134\n",
      "weighted avg       0.82      0.82      0.81       134\n",
      "\n"
     ]
    }
   ],
   "source": [
    "from sklearn.metrics import classification_report\n",
    "print(\"Classification Report Train Data\")\n",
    "print(classification_report(y_train, prediction_train))\n",
    "\n",
    "print(\"Classification Report Test Data\")\n",
    "print(classification_report(y_test, prediction_test))"
   ]
  },
  {
   "cell_type": "code",
   "execution_count": 32,
   "id": "e6673279",
   "metadata": {},
   "outputs": [
    {
     "name": "stdout",
     "output_type": "stream",
     "text": [
      "          Confusion matrix on the train data\n"
     ]
    },
    {
     "data": {
      "image/png": "[encoded data removed]",
      "text/plain": [
       "<Figure size 432x288 with 1 Axes>"
      ]
     },
     "metadata": {
      "needs_background": "light"
     },
     "output_type": "display_data"
    },
    {
     "name": "stdout",
     "output_type": "stream",
     "text": [
      "          Confusion matrix on the test data\n"
     ]
    },
    {
     "data": {
      "image/png": "[encoded data removed]",
      "text/plain": [
       "<Figure size 432x288 with 1 Axes>"
      ]
     },
     "metadata": {
      "needs_background": "light"
     },
     "output_type": "display_data"
    }
   ],
   "source": [
    "# Get the confusion matrix on the train data\n",
    "print(\"          Confusion matrix on the train data\")\n",
    "confusion_matrix(y_train,prediction_train)\n",
    "sns.heatmap(confusion_matrix(y_train,prediction_train),annot=True, fmt='d',cbar=False)\n",
    "plt.xlabel('Predicted Label')\n",
    "plt.ylabel('Actual Label')\n",
    "plt.title('Confusion Matrix')\n",
    "plt.show()\n",
    "# Get the confusion matrix on the test data\n",
    "print(\"          Confusion matrix on the test data\")\n",
    "confusion_matrix(y_test,prediction_test)\n",
    "sns.heatmap(confusion_matrix(y_test,prediction_test),annot=True, fmt='d',cbar=False)\n",
    "plt.xlabel('Predicted Label')\n",
    "plt.ylabel('Actual Label')\n",
    "plt.title('Confusion Matrix')\n",
    "plt.show()"
   ]
  },
  {
   "cell_type": "code",
   "execution_count": 33,
   "id": "a1e0e0bb",
   "metadata": {},
   "outputs": [],
   "source": [
    "#Public Transport=0, Private Transport=1"
   ]
  },
  {
   "cell_type": "code",
   "execution_count": 34,
   "id": "a07d0706",
   "metadata": {},
   "outputs": [],
   "source": [
    "c_mat = confusion_matrix(y_train,prediction_train)\n",
    "TP_LR = c_mat[1,1]   #TP\n",
    "TN_LR = c_mat[0,0]   #TN\n",
    "FP_LR = c_mat[1,0]   #FP\n",
    "FN_LR = c_mat[0,1]   #FN"
   ]
  },
  {
   "cell_type": "markdown",
   "id": "8b64b7b1",
   "metadata": {},
   "source": [
    "## - The confusion matrix on Training Data\n",
    "\n",
    "- True Positives (TP): we correctly predicted that they use Private Transport 53\n",
    "\n",
    "- True Negatives (TN): we correctly predicted that they use Public Transport 192\n",
    "\n",
    "- False Positives (FP): we incorrectly predicted that they use Private Transport (a \"Type I error\") 49 Falsely predict positive Type I error\n",
    "\n",
    "- False Negatives (FN): we incorrectly predicted that they use Public Transport (a \"Type II error\") 16 Falsely predict negative Type II error\n",
    "\n",
    "## - The confusion matrix on Testing Data\n",
    "\n",
    "- True Positives (TP): we correctly predicted that they use Private Transport 25\n",
    "\n",
    "- True Negatives (TN): we correctly predicted that they use Public Transport 85\n",
    "\n",
    "- False Positives (FP): we incorrectly predicted that they use Private Transport (a \"Type I error\") 17 Falsely predict positive Type I error\n",
    "\n",
    "- False Negatives (FN): we incorrectly predicted that they use Public Transport (a \"Type II error\") 7 Falsely predict negative Type II error"
   ]
  },
  {
   "cell_type": "markdown",
   "id": "8626807d",
   "metadata": {},
   "source": [
    "# Naive Bayes "
   ]
  },
  {
   "cell_type": "markdown",
   "id": "0ca39f3f",
   "metadata": {},
   "source": [
    "### Building and Training the Model"
   ]
  },
  {
   "cell_type": "code",
   "execution_count": 35,
   "id": "b1dde837",
   "metadata": {},
   "outputs": [
    {
     "data": {
      "text/plain": [
       "GaussianNB()"
      ]
     },
     "execution_count": 35,
     "metadata": {},
     "output_type": "execute_result"
    }
   ],
   "source": [
    "from sklearn.naive_bayes import GaussianNB # using Gaussian algorithm from Naive Bayes\n",
    "\n",
    "# create the model\n",
    "model = GaussianNB()\n",
    "model.fit(x_train, y_train)"
   ]
  },
  {
   "cell_type": "markdown",
   "id": "c3772975",
   "metadata": {},
   "source": [
    "### Making Predictions From Our Model"
   ]
  },
  {
   "cell_type": "code",
   "execution_count": 36,
   "id": "6de3c2a8",
   "metadata": {},
   "outputs": [],
   "source": [
    "#predict on test\n",
    "prediction_train= model.predict(x_train)\n",
    "prediction_test = model.predict(x_test)"
   ]
  },
  {
   "cell_type": "markdown",
   "id": "d0e7335a",
   "metadata": {},
   "source": [
    "### Testing the Performance of our Model"
   ]
  },
  {
   "cell_type": "code",
   "execution_count": 37,
   "id": "431cfef6",
   "metadata": {},
   "outputs": [],
   "source": [
    "from sklearn import metrics"
   ]
  },
  {
   "cell_type": "code",
   "execution_count": 38,
   "id": "f785e532",
   "metadata": {},
   "outputs": [],
   "source": [
    "Acc_Train_NB = model.score(x_train,y_train)\n",
    "Acc_Test_NB  = model.score(x_test ,y_test )"
   ]
  },
  {
   "cell_type": "code",
   "execution_count": 39,
   "id": "180800b2",
   "metadata": {},
   "outputs": [],
   "source": [
    "#Mean Absolute Error (MAE)\n",
    "MAE_NB = metrics.mean_absolute_error(y_test, prediction_test)"
   ]
  },
  {
   "cell_type": "code",
   "execution_count": 40,
   "id": "9af5975d",
   "metadata": {},
   "outputs": [],
   "source": [
    "#Mean Squared Error (MSE)\n",
    "MSE_NB = metrics.mean_squared_error(y_test, prediction_test)"
   ]
  },
  {
   "cell_type": "code",
   "execution_count": 41,
   "id": "4e81e196",
   "metadata": {},
   "outputs": [],
   "source": [
    "#Root Mean Squared Error (RMSE)\n",
    "RMSE_NB = np.sqrt(metrics.mean_squared_error(y_test, prediction_test))"
   ]
  },
  {
   "cell_type": "markdown",
   "id": "8926f3e3",
   "metadata": {},
   "source": [
    "### Model Evaluation"
   ]
  },
  {
   "cell_type": "code",
   "execution_count": 42,
   "id": "296f243b",
   "metadata": {},
   "outputs": [
    {
     "name": "stdout",
     "output_type": "stream",
     "text": [
      "AUC: 0.798\n"
     ]
    },
    {
     "data": {
      "image/png": "[encoded data removed]",
      "text/plain": [
       "<Figure size 432x288 with 1 Axes>"
      ]
     },
     "metadata": {
      "needs_background": "light"
     },
     "output_type": "display_data"
    }
   ],
   "source": [
    "# predict probabilities\n",
    "probs = model.predict_proba(x_train)\n",
    "# keep probabilities for the positive outcome only\n",
    "probs = probs[:, 1]\n",
    "# calculate AUC\n",
    "from sklearn.metrics import roc_auc_score\n",
    "auc_train = roc_auc_score(y_train, probs)\n",
    "print('AUC: %.3f' % auc_train)\n",
    "AUC_train_NB = auc_train\n",
    "# calculate roc curve\n",
    "from sklearn.metrics import roc_curve\n",
    "fpr, tpr, thresholds = roc_curve(y_train, probs)\n",
    "plt.plot([0, 1], [0, 1], linestyle='--')\n",
    "# plot the roc curve for the model\n",
    "plt.plot(fpr, tpr, marker='.')\n",
    "# show the plot\n",
    "plt.show()"
   ]
  },
  {
   "cell_type": "code",
   "execution_count": 43,
   "id": "d99a19e8",
   "metadata": {},
   "outputs": [
    {
     "name": "stdout",
     "output_type": "stream",
     "text": [
      "AUC: 0.781\n"
     ]
    },
    {
     "data": {
      "image/png": "[encoded data removed]",
      "text/plain": [
       "<Figure size 432x288 with 1 Axes>"
      ]
     },
     "metadata": {
      "needs_background": "light"
     },
     "output_type": "display_data"
    }
   ],
   "source": [
    "# predict probabilities\n",
    "probs = model.predict_proba(x_test)\n",
    "# keep probabilities for the positive outcome only\n",
    "probs = probs[:, 1]\n",
    "# calculate AUC\n",
    "from sklearn.metrics import roc_auc_score\n",
    "auc_test = roc_auc_score(y_test, probs)\n",
    "print('AUC: %.3f' % auc_test)\n",
    "AUC_test_NB = auc_test\n",
    "# calculate roc curve\n",
    "from sklearn.metrics import roc_curve\n",
    "fpr, tpr, thresholds = roc_curve(y_test, probs)\n",
    "plt.plot([0, 1], [0, 1], linestyle='--')\n",
    "# plot the roc curve for the model\n",
    "plt.plot(fpr, tpr, marker='.')\n",
    "# show the plot\n",
    "plt.show()"
   ]
  },
  {
   "cell_type": "markdown",
   "id": "b1cfb84a",
   "metadata": {},
   "source": [
    "### Measuring the Performance of a Machine Learning Model"
   ]
  },
  {
   "cell_type": "code",
   "execution_count": 44,
   "id": "93d683f8",
   "metadata": {},
   "outputs": [
    {
     "name": "stdout",
     "output_type": "stream",
     "text": [
      "Classification Report Train Data\n",
      "              precision    recall  f1-score   support\n",
      "\n",
      "           0       0.79      0.94      0.86       208\n",
      "           1       0.80      0.50      0.61       102\n",
      "\n",
      "    accuracy                           0.79       310\n",
      "   macro avg       0.79      0.72      0.74       310\n",
      "weighted avg       0.79      0.79      0.78       310\n",
      "\n",
      "Classification Report Test Data\n",
      "              precision    recall  f1-score   support\n",
      "\n",
      "           0       0.81      0.91      0.86        92\n",
      "           1       0.73      0.52      0.61        42\n",
      "\n",
      "    accuracy                           0.79       134\n",
      "   macro avg       0.77      0.72      0.73       134\n",
      "weighted avg       0.78      0.79      0.78       134\n",
      "\n"
     ]
    }
   ],
   "source": [
    "from sklearn.metrics import classification_report\n",
    "print(\"Classification Report Train Data\")\n",
    "print(classification_report(y_train, prediction_train))\n",
    "\n",
    "print(\"Classification Report Test Data\")\n",
    "print(classification_report(y_test, prediction_test))"
   ]
  },
  {
   "cell_type": "code",
   "execution_count": 45,
   "id": "c62587a3",
   "metadata": {},
   "outputs": [
    {
     "name": "stdout",
     "output_type": "stream",
     "text": [
      "          Confusion matrix on the train data\n"
     ]
    },
    {
     "data": {
      "image/png": "[encoded data removed]",
      "text/plain": [
       "<Figure size 432x288 with 1 Axes>"
      ]
     },
     "metadata": {
      "needs_background": "light"
     },
     "output_type": "display_data"
    },
    {
     "name": "stdout",
     "output_type": "stream",
     "text": [
      "          Confusion matrix on the test data\n"
     ]
    },
    {
     "data": {
      "image/png": "[encoded data removed]",
      "text/plain": [
       "<Figure size 432x288 with 1 Axes>"
      ]
     },
     "metadata": {
      "needs_background": "light"
     },
     "output_type": "display_data"
    }
   ],
   "source": [
    "# Get the confusion matrix on the train data\n",
    "print(\"          Confusion matrix on the train data\")\n",
    "confusion_matrix(y_train,prediction_train)\n",
    "sns.heatmap(confusion_matrix(y_train,prediction_train),annot=True, fmt='d',cbar=False)\n",
    "plt.xlabel('Predicted Label')\n",
    "plt.ylabel('Actual Label')\n",
    "plt.title('Confusion Matrix')\n",
    "plt.show()\n",
    "# Get the confusion matrix on the test data\n",
    "print(\"          Confusion matrix on the test data\")\n",
    "confusion_matrix(y_test,prediction_test)\n",
    "sns.heatmap(confusion_matrix(y_test,prediction_test),annot=True, fmt='d',cbar=False)\n",
    "plt.xlabel('Predicted Label')\n",
    "plt.ylabel('Actual Label')\n",
    "plt.title('Confusion Matrix')\n",
    "plt.show()"
   ]
  },
  {
   "cell_type": "code",
   "execution_count": 46,
   "id": "0f492937",
   "metadata": {},
   "outputs": [],
   "source": [
    "#Public Transport=0, Private Transport=1"
   ]
  },
  {
   "cell_type": "code",
   "execution_count": 47,
   "id": "7a902701",
   "metadata": {},
   "outputs": [],
   "source": [
    "c_mat = confusion_matrix(y_train,prediction_train)\n",
    "TP_NB = c_mat[1,1]   #TP\n",
    "TN_NB = c_mat[0,0]   #TN\n",
    "FP_NB = c_mat[1,0]   #FP\n",
    "FN_NB = c_mat[0,1]   #FN"
   ]
  },
  {
   "cell_type": "markdown",
   "id": "4148e4c7",
   "metadata": {},
   "source": [
    "## - The confusion matrix on Training Data\n",
    "\n",
    "- True Positives (TP): we correctly predicted that they use Private Transport 51\n",
    "\n",
    "- True Negatives (TN): we correctly predicted that they use Public Transport 195\n",
    "\n",
    "- False Positives (FP): we incorrectly predicted that they use Private Transport (a \"Type I error\") 13 Falsely predict positive Type I error\n",
    "\n",
    "- False Negatives (FN): we incorrectly predicted that they use Public Transport (a \"Type II error\") 51 Falsely predict negative Type II error\n",
    "\n",
    "## - The confusion matrix on Testing Data\n",
    "\n",
    "- True Positives (TP): we correctly predicted that they use Private Transport 22\n",
    "\n",
    "- True Negatives (TN): we correctly predicted that they use Public Transport 84\n",
    "\n",
    "- False Positives (FP): we incorrectly predicted that they use Private Transport (a \"Type I error\") 8 Falsely predict positive Type I error\n",
    "\n",
    "- False Negatives (FN): we incorrectly predicted that they use Public Transport (a \"Type II error\") 20 Falsely predict negative Type II error"
   ]
  },
  {
   "cell_type": "markdown",
   "id": "b1214ddc",
   "metadata": {},
   "source": [
    "# kNN Model"
   ]
  },
  {
   "cell_type": "code",
   "execution_count": 48,
   "id": "c88a59c6",
   "metadata": {},
   "outputs": [
    {
     "data": {
      "text/html": [
       "<div>\n",
       "<style scoped>\n",
       "    .dataframe tbody tr th:only-of-type {\n",
       "        vertical-align: middle;\n",
       "    }\n",
       "\n",
       "    .dataframe tbody tr th {\n",
       "        vertical-align: top;\n",
       "    }\n",
       "\n",
       "    .dataframe thead th {\n",
       "        text-align: right;\n",
       "    }\n",
       "</style>\n",
       "<table border=\"1\" class=\"dataframe\">\n",
       "  <thead>\n",
       "    <tr style=\"text-align: right;\">\n",
       "      <th></th>\n",
       "      <th>Age</th>\n",
       "      <th>Gender</th>\n",
       "      <th>Engineer</th>\n",
       "      <th>MBA</th>\n",
       "      <th>Work Exp</th>\n",
       "      <th>Salary</th>\n",
       "      <th>Distance</th>\n",
       "      <th>license</th>\n",
       "    </tr>\n",
       "  </thead>\n",
       "  <tbody>\n",
       "    <tr>\n",
       "      <th>count</th>\n",
       "      <td>4.440000e+02</td>\n",
       "      <td>4.440000e+02</td>\n",
       "      <td>4.440000e+02</td>\n",
       "      <td>4.440000e+02</td>\n",
       "      <td>4.440000e+02</td>\n",
       "      <td>4.440000e+02</td>\n",
       "      <td>4.440000e+02</td>\n",
       "      <td>4.440000e+02</td>\n",
       "    </tr>\n",
       "    <tr>\n",
       "      <th>mean</th>\n",
       "      <td>1.470295e-16</td>\n",
       "      <td>2.385479e-16</td>\n",
       "      <td>1.797861e-16</td>\n",
       "      <td>-4.400884e-17</td>\n",
       "      <td>-1.030207e-16</td>\n",
       "      <td>3.440691e-16</td>\n",
       "      <td>-7.621531e-16</td>\n",
       "      <td>-1.500301e-17</td>\n",
       "    </tr>\n",
       "    <tr>\n",
       "      <th>std</th>\n",
       "      <td>1.001128e+00</td>\n",
       "      <td>1.001128e+00</td>\n",
       "      <td>1.001128e+00</td>\n",
       "      <td>1.001128e+00</td>\n",
       "      <td>1.001128e+00</td>\n",
       "      <td>1.001128e+00</td>\n",
       "      <td>1.001128e+00</td>\n",
       "      <td>1.001128e+00</td>\n",
       "    </tr>\n",
       "    <tr>\n",
       "      <th>min</th>\n",
       "      <td>-2.209505e+00</td>\n",
       "      <td>-6.364458e-01</td>\n",
       "      <td>-1.753110e+00</td>\n",
       "      <td>-5.808179e-01</td>\n",
       "      <td>-1.233673e+00</td>\n",
       "      <td>-9.326442e-01</td>\n",
       "      <td>-2.255137e+00</td>\n",
       "      <td>-5.530663e-01</td>\n",
       "    </tr>\n",
       "    <tr>\n",
       "      <th>25%</th>\n",
       "      <td>-6.228272e-01</td>\n",
       "      <td>-6.364458e-01</td>\n",
       "      <td>5.704149e-01</td>\n",
       "      <td>-5.808179e-01</td>\n",
       "      <td>-6.461675e-01</td>\n",
       "      <td>-6.166150e-01</td>\n",
       "      <td>-7.004825e-01</td>\n",
       "      <td>-5.530663e-01</td>\n",
       "    </tr>\n",
       "    <tr>\n",
       "      <th>50%</th>\n",
       "      <td>-1.694907e-01</td>\n",
       "      <td>-6.364458e-01</td>\n",
       "      <td>5.704149e-01</td>\n",
       "      <td>-5.808179e-01</td>\n",
       "      <td>-2.544974e-01</td>\n",
       "      <td>-2.527026e-01</td>\n",
       "      <td>-8.972528e-02</td>\n",
       "      <td>-5.530663e-01</td>\n",
       "    </tr>\n",
       "    <tr>\n",
       "      <th>75%</th>\n",
       "      <td>5.105141e-01</td>\n",
       "      <td>1.571226e+00</td>\n",
       "      <td>5.704149e-01</td>\n",
       "      <td>1.721710e+00</td>\n",
       "      <td>3.330078e-01</td>\n",
       "      <td>-4.919892e-02</td>\n",
       "      <td>5.834957e-01</td>\n",
       "      <td>-5.530663e-01</td>\n",
       "    </tr>\n",
       "    <tr>\n",
       "      <th>max</th>\n",
       "      <td>3.457201e+00</td>\n",
       "      <td>1.571226e+00</td>\n",
       "      <td>5.704149e-01</td>\n",
       "      <td>1.721710e+00</td>\n",
       "      <td>3.466369e+00</td>\n",
       "      <td>3.903560e+00</td>\n",
       "      <td>3.352724e+00</td>\n",
       "      <td>1.808101e+00</td>\n",
       "    </tr>\n",
       "  </tbody>\n",
       "</table>\n",
       "</div>"
      ],
      "text/plain": [
       "                Age        Gender      Engineer           MBA      Work Exp  \\\n",
       "count  4.440000e+02  4.440000e+02  4.440000e+02  4.440000e+02  4.440000e+02   \n",
       "mean   1.470295e-16  2.385479e-16  1.797861e-16 -4.400884e-17 -1.030207e-16   \n",
       "std    1.001128e+00  1.001128e+00  1.001128e+00  1.001128e+00  1.001128e+00   \n",
       "min   -2.209505e+00 -6.364458e-01 -1.753110e+00 -5.808179e-01 -1.233673e+00   \n",
       "25%   -6.228272e-01 -6.364458e-01  5.704149e-01 -5.808179e-01 -6.461675e-01   \n",
       "50%   -1.694907e-01 -6.364458e-01  5.704149e-01 -5.808179e-01 -2.544974e-01   \n",
       "75%    5.105141e-01  1.571226e+00  5.704149e-01  1.721710e+00  3.330078e-01   \n",
       "max    3.457201e+00  1.571226e+00  5.704149e-01  1.721710e+00  3.466369e+00   \n",
       "\n",
       "             Salary      Distance       license  \n",
       "count  4.440000e+02  4.440000e+02  4.440000e+02  \n",
       "mean   3.440691e-16 -7.621531e-16 -1.500301e-17  \n",
       "std    1.001128e+00  1.001128e+00  1.001128e+00  \n",
       "min   -9.326442e-01 -2.255137e+00 -5.530663e-01  \n",
       "25%   -6.166150e-01 -7.004825e-01 -5.530663e-01  \n",
       "50%   -2.527026e-01 -8.972528e-02 -5.530663e-01  \n",
       "75%   -4.919892e-02  5.834957e-01 -5.530663e-01  \n",
       "max    3.903560e+00  3.352724e+00  1.808101e+00  "
      ]
     },
     "execution_count": 48,
     "metadata": {},
     "output_type": "execute_result"
    }
   ],
   "source": [
    "# convert the features into z scores as we do not know what units / scales were used and store them in new dataframe\n",
    "# It is always adviced to scale numeric attributes in models that calculate distances.\n",
    "\n",
    "xScaled  = x.apply(zscore)  # convert all attributes to Z scale \n",
    "\n",
    "xScaled.describe()"
   ]
  },
  {
   "cell_type": "code",
   "execution_count": 49,
   "id": "735b4526",
   "metadata": {},
   "outputs": [],
   "source": [
    "# Split X and y into training and test set in 75:25 ratio\n",
    "\n",
    "x_train, x_test, y_train, y_test = train_test_split(xScaled, y, test_size=0.30, random_state=1)"
   ]
  },
  {
   "cell_type": "markdown",
   "id": "d99e38ec",
   "metadata": {},
   "source": [
    "### Building and Training the Model"
   ]
  },
  {
   "cell_type": "code",
   "execution_count": 50,
   "id": "886b6e0c",
   "metadata": {},
   "outputs": [
    {
     "data": {
      "text/plain": [
       "KNeighborsClassifier(weights='distance')"
      ]
     },
     "execution_count": 50,
     "metadata": {},
     "output_type": "execute_result"
    }
   ],
   "source": [
    "from sklearn.model_selection import train_test_split\n",
    "from sklearn.neighbors import KNeighborsClassifier\n",
    "from scipy.stats import zscore\n",
    "model = KNeighborsClassifier(n_neighbors= 5,weights = 'distance' )\n",
    "# Call Nearest Neighbour algorithm\n",
    "model.fit(x_train, y_train)"
   ]
  },
  {
   "cell_type": "markdown",
   "id": "64fb8914",
   "metadata": {},
   "source": [
    "### Making Predictions From Our Model"
   ]
  },
  {
   "cell_type": "code",
   "execution_count": 51,
   "id": "5efd7fa7",
   "metadata": {},
   "outputs": [],
   "source": [
    "#predict on test\n",
    "prediction_train= model.predict(x_train)\n",
    "prediction_test = model.predict(x_test)"
   ]
  },
  {
   "cell_type": "markdown",
   "id": "c91fd212",
   "metadata": {},
   "source": [
    "### Testing the Performance of our Model"
   ]
  },
  {
   "cell_type": "code",
   "execution_count": 52,
   "id": "1dcf432a",
   "metadata": {},
   "outputs": [],
   "source": [
    "from sklearn import metrics"
   ]
  },
  {
   "cell_type": "code",
   "execution_count": 53,
   "id": "b70dc0fc",
   "metadata": {},
   "outputs": [],
   "source": [
    "Acc_Train_kNN = model.score(x_train,y_train)\n",
    "Acc_Test_kNN = model.score(x_test ,y_test )"
   ]
  },
  {
   "cell_type": "code",
   "execution_count": 54,
   "id": "78c6974d",
   "metadata": {},
   "outputs": [],
   "source": [
    "#Mean Absolute Error (MAE)\n",
    "MAE_kNN = metrics.mean_absolute_error(y_test, prediction_test)"
   ]
  },
  {
   "cell_type": "code",
   "execution_count": 55,
   "id": "9d0ad52b",
   "metadata": {},
   "outputs": [],
   "source": [
    "#Mean Squared Error (MSE)\n",
    "MSE_kNN = metrics.mean_squared_error(y_test, prediction_test)"
   ]
  },
  {
   "cell_type": "code",
   "execution_count": 56,
   "id": "9c9cea20",
   "metadata": {},
   "outputs": [],
   "source": [
    "#Root Mean Squared Error (RMSE)\n",
    "RMSE_kNN = np.sqrt(metrics.mean_squared_error(y_test, prediction_test))"
   ]
  },
  {
   "cell_type": "markdown",
   "id": "95bed313",
   "metadata": {},
   "source": [
    "### Model Evaluation"
   ]
  },
  {
   "cell_type": "code",
   "execution_count": 57,
   "id": "9b5d3dee",
   "metadata": {},
   "outputs": [
    {
     "name": "stdout",
     "output_type": "stream",
     "text": [
      "AUC: 1.000\n"
     ]
    },
    {
     "data": {
      "image/png": "[encoded data removed]",
      "text/plain": [
       "<Figure size 432x288 with 1 Axes>"
      ]
     },
     "metadata": {
      "needs_background": "light"
     },
     "output_type": "display_data"
    }
   ],
   "source": [
    "# predict probabilities\n",
    "probs = model.predict_proba(x_train)\n",
    "# keep probabilities for the positive outcome only\n",
    "probs = probs[:, 1]\n",
    "# calculate AUC\n",
    "from sklearn.metrics import roc_auc_score\n",
    "auc_train = roc_auc_score(y_train, probs)\n",
    "print('AUC: %.3f' % auc_train)\n",
    "AUC_train_kNN = auc_train\n",
    "# calculate roc curve\n",
    "from sklearn.metrics import roc_curve\n",
    "fpr, tpr, thresholds = roc_curve(y_train, probs)\n",
    "plt.plot([0, 1], [0, 1], linestyle='--')\n",
    "# plot the roc curve for the model\n",
    "plt.plot(fpr, tpr, marker='.')\n",
    "# show the plot\n",
    "plt.show()"
   ]
  },
  {
   "cell_type": "code",
   "execution_count": 58,
   "id": "f36ec44a",
   "metadata": {},
   "outputs": [
    {
     "name": "stdout",
     "output_type": "stream",
     "text": [
      "AUC: 0.760\n"
     ]
    },
    {
     "data": {
      "image/png": "[encoded data removed]",
      "text/plain": [
       "<Figure size 432x288 with 1 Axes>"
      ]
     },
     "metadata": {
      "needs_background": "light"
     },
     "output_type": "display_data"
    }
   ],
   "source": [
    "# predict probabilities\n",
    "probs = model.predict_proba(x_test)\n",
    "# keep probabilities for the positive outcome only\n",
    "probs = probs[:, 1]\n",
    "# calculate AUC\n",
    "from sklearn.metrics import roc_auc_score\n",
    "auc_test = roc_auc_score(y_test, probs)\n",
    "print('AUC: %.3f' % auc_test)\n",
    "AUC_test_kNN = auc_test\n",
    "# calculate roc curve\n",
    "from sklearn.metrics import roc_curve\n",
    "fpr, tpr, thresholds = roc_curve(y_test, probs)\n",
    "plt.plot([0, 1], [0, 1], linestyle='--')\n",
    "# plot the roc curve for the model\n",
    "plt.plot(fpr, tpr, marker='.')\n",
    "# show the plot\n",
    "plt.show()"
   ]
  },
  {
   "cell_type": "markdown",
   "id": "a496819a",
   "metadata": {},
   "source": [
    "### Measuring the Performance of a Machine Learning Model"
   ]
  },
  {
   "cell_type": "code",
   "execution_count": 59,
   "id": "8d6ceeff",
   "metadata": {},
   "outputs": [
    {
     "name": "stdout",
     "output_type": "stream",
     "text": [
      "Classification Report Train Data\n",
      "              precision    recall  f1-score   support\n",
      "\n",
      "           0       1.00      1.00      1.00       208\n",
      "           1       1.00      1.00      1.00       102\n",
      "\n",
      "    accuracy                           1.00       310\n",
      "   macro avg       1.00      1.00      1.00       310\n",
      "weighted avg       1.00      1.00      1.00       310\n",
      "\n",
      "Classification Report Test Data\n",
      "              precision    recall  f1-score   support\n",
      "\n",
      "           0       0.82      0.88      0.85        92\n",
      "           1       0.69      0.57      0.62        42\n",
      "\n",
      "    accuracy                           0.78       134\n",
      "   macro avg       0.75      0.73      0.74       134\n",
      "weighted avg       0.78      0.78      0.78       134\n",
      "\n"
     ]
    }
   ],
   "source": [
    "from sklearn.metrics import classification_report\n",
    "print(\"Classification Report Train Data\")\n",
    "print(classification_report(y_train, prediction_train))\n",
    "\n",
    "print(\"Classification Report Test Data\")\n",
    "print(classification_report(y_test, prediction_test))"
   ]
  },
  {
   "cell_type": "code",
   "execution_count": 60,
   "id": "45acc988",
   "metadata": {},
   "outputs": [
    {
     "name": "stdout",
     "output_type": "stream",
     "text": [
      "          Confusion matrix on the train data\n"
     ]
    },
    {
     "data": {
      "image/png": "[encoded data removed]",
      "text/plain": [
       "<Figure size 432x288 with 1 Axes>"
      ]
     },
     "metadata": {
      "needs_background": "light"
     },
     "output_type": "display_data"
    },
    {
     "name": "stdout",
     "output_type": "stream",
     "text": [
      "          Confusion matrix on the test data\n"
     ]
    },
    {
     "data": {
      "image/png": "[encoded data removed]",
      "text/plain": [
       "<Figure size 432x288 with 1 Axes>"
      ]
     },
     "metadata": {
      "needs_background": "light"
     },
     "output_type": "display_data"
    }
   ],
   "source": [
    "# Get the confusion matrix on the train data\n",
    "print(\"          Confusion matrix on the train data\")\n",
    "confusion_matrix(y_train,prediction_train)\n",
    "sns.heatmap(confusion_matrix(y_train,prediction_train),annot=True, fmt='d',cbar=False)\n",
    "plt.xlabel('Predicted Label')\n",
    "plt.ylabel('Actual Label')\n",
    "plt.title('Confusion Matrix')\n",
    "plt.show()\n",
    "# Get the confusion matrix on the test data\n",
    "print(\"          Confusion matrix on the test data\")\n",
    "confusion_matrix(y_test,prediction_test)\n",
    "sns.heatmap(confusion_matrix(y_test,prediction_test),annot=True, fmt='d',cbar=False)\n",
    "plt.xlabel('Predicted Label')\n",
    "plt.ylabel('Actual Label')\n",
    "plt.title('Confusion Matrix')\n",
    "plt.show()"
   ]
  },
  {
   "cell_type": "code",
   "execution_count": 61,
   "id": "6341b219",
   "metadata": {},
   "outputs": [],
   "source": [
    "#Public Transport=0, Private Transport=1"
   ]
  },
  {
   "cell_type": "code",
   "execution_count": 62,
   "id": "95dd781d",
   "metadata": {},
   "outputs": [],
   "source": [
    "c_mat = confusion_matrix(y_train,prediction_train)\n",
    "TP_kNN = c_mat[1,1]   #TP\n",
    "TN_kNN = c_mat[0,0]   #TN\n",
    "FP_kNN = c_mat[1,0]   #FP\n",
    "FN_kNN = c_mat[0,1]   #FN"
   ]
  },
  {
   "cell_type": "markdown",
   "id": "aa5e79f9",
   "metadata": {},
   "source": [
    "## - The confusion matrix on Training Data\n",
    "\n",
    "- True Positives (TP): we correctly predicted that they use Private Transport 102\n",
    "\n",
    "- True Negatives (TN): we correctly predicted that they use Public Transport 208\n",
    "\n",
    "- False Positives (FP): we incorrectly predicted that they use Private Transport (a \"Type I error\") 0 Falsely predict positive Type I error\n",
    "\n",
    "- False Negatives (FN): we incorrectly predicted that they use Public Transport (a \"Type II error\") 0 Falsely predict negative Type II error\n",
    "\n",
    "## - The confusion matrix on Testing Data\n",
    "\n",
    "- True Positives (TP): we correctly predicted that they use Private Transport 24\n",
    "\n",
    "- True Negatives (TN): we correctly predicted that they use Public Transport 81\n",
    "\n",
    "- False Positives (FP): we incorrectly predicted that they use Private Transport (a \"Type I error\") 11 Falsely predict positive Type I error\n",
    "\n",
    "- False Negatives (FN): we incorrectly predicted that they use Public Transport (a \"Type II error\") 18 Falsely predict negative Type II error"
   ]
  },
  {
   "cell_type": "markdown",
   "id": "745daf44",
   "metadata": {},
   "source": [
    "# Linear Discriminant Analysis"
   ]
  },
  {
   "cell_type": "code",
   "execution_count": 63,
   "id": "6f6b7d3b",
   "metadata": {},
   "outputs": [],
   "source": [
    "from sklearn.discriminant_analysis import LinearDiscriminantAnalysis\n",
    "from sklearn.metrics import confusion_matrix\n",
    "from sklearn.preprocessing import scale"
   ]
  },
  {
   "cell_type": "code",
   "execution_count": 64,
   "id": "ca524b9c",
   "metadata": {},
   "outputs": [
    {
     "data": {
      "text/plain": [
       "LinearDiscriminantAnalysis()"
      ]
     },
     "execution_count": 64,
     "metadata": {},
     "output_type": "execute_result"
    }
   ],
   "source": [
    "# Build LDA Model\n",
    "# Refer details for LDA at http://scikit-learn.org/stable/modules/generated/sklearn.discriminant_analysis.LinearDiscriminantAnalysis.html\n",
    "clf = LinearDiscriminantAnalysis()\n",
    "model=clf.fit(x_train,y_train)\n",
    "model"
   ]
  },
  {
   "cell_type": "markdown",
   "id": "b4d55357",
   "metadata": {},
   "source": [
    "### Making Predictions From Our Model"
   ]
  },
  {
   "cell_type": "code",
   "execution_count": 65,
   "id": "ef6e22d8",
   "metadata": {},
   "outputs": [],
   "source": [
    "#predict on test\n",
    "prediction_train= model.predict(x_train)\n",
    "prediction_test = model.predict(x_test)"
   ]
  },
  {
   "cell_type": "markdown",
   "id": "f9f58058",
   "metadata": {},
   "source": [
    "### Testing the Performance of our Model"
   ]
  },
  {
   "cell_type": "code",
   "execution_count": 66,
   "id": "4306cca4",
   "metadata": {},
   "outputs": [],
   "source": [
    "from sklearn import metrics"
   ]
  },
  {
   "cell_type": "code",
   "execution_count": 67,
   "id": "3353a7d4",
   "metadata": {},
   "outputs": [],
   "source": [
    "Acc_Train_LDA = model.score(x_train,y_train)\n",
    "Acc_Test_LDA  = model.score(x_test ,y_test )"
   ]
  },
  {
   "cell_type": "code",
   "execution_count": 68,
   "id": "2489400c",
   "metadata": {},
   "outputs": [],
   "source": [
    "#Mean Absolute Error (MAE)\n",
    "MAE_LDA = metrics.mean_absolute_error(y_test, prediction_test)"
   ]
  },
  {
   "cell_type": "code",
   "execution_count": 69,
   "id": "0b2613a8",
   "metadata": {},
   "outputs": [],
   "source": [
    "#Mean Squared Error (MSE)\n",
    "MSE_LDA = metrics.mean_squared_error(y_test, prediction_test)"
   ]
  },
  {
   "cell_type": "code",
   "execution_count": 70,
   "id": "60bf40ce",
   "metadata": {},
   "outputs": [],
   "source": [
    "#Root Mean Squared Error (RMSE)\n",
    "RMSE_LDA = np.sqrt(metrics.mean_squared_error(y_test, prediction_test))"
   ]
  },
  {
   "cell_type": "markdown",
   "id": "618d2da1",
   "metadata": {},
   "source": [
    "### Model Evaluation"
   ]
  },
  {
   "cell_type": "code",
   "execution_count": 71,
   "id": "340c24ef",
   "metadata": {},
   "outputs": [
    {
     "name": "stdout",
     "output_type": "stream",
     "text": [
      "AUC: 0.834\n"
     ]
    },
    {
     "data": {
      "image/png": "[encoded data removed]",
      "text/plain": [
       "<Figure size 432x288 with 1 Axes>"
      ]
     },
     "metadata": {
      "needs_background": "light"
     },
     "output_type": "display_data"
    }
   ],
   "source": [
    "# predict probabilities\n",
    "probs = model.predict_proba(x_train)\n",
    "# keep probabilities for the positive outcome only\n",
    "probs = probs[:, 1]\n",
    "# calculate AUC\n",
    "from sklearn.metrics import roc_auc_score\n",
    "auc_train = roc_auc_score(y_train, probs)\n",
    "print('AUC: %.3f' % auc_train)\n",
    "AUC_train_LDA = auc_train\n",
    "# calculate roc curve\n",
    "from sklearn.metrics import roc_curve\n",
    "fpr, tpr, thresholds = roc_curve(y_train, probs)\n",
    "plt.plot([0, 1], [0, 1], linestyle='--')\n",
    "# plot the roc curve for the model\n",
    "plt.plot(fpr, tpr, marker='.')\n",
    "# show the plot\n",
    "plt.show()"
   ]
  },
  {
   "cell_type": "code",
   "execution_count": 72,
   "id": "0e40ae72",
   "metadata": {},
   "outputs": [
    {
     "name": "stdout",
     "output_type": "stream",
     "text": [
      "AUC: 0.810\n"
     ]
    },
    {
     "data": {
      "image/png": "[encoded data removed]",
      "text/plain": [
       "<Figure size 432x288 with 1 Axes>"
      ]
     },
     "metadata": {
      "needs_background": "light"
     },
     "output_type": "display_data"
    }
   ],
   "source": [
    "# predict probabilities\n",
    "probs = model.predict_proba(x_test)\n",
    "# keep probabilities for the positive outcome only\n",
    "probs = probs[:, 1]\n",
    "# calculate AUC\n",
    "from sklearn.metrics import roc_auc_score\n",
    "auc_test = roc_auc_score(y_test, probs)\n",
    "print('AUC: %.3f' % auc_test)\n",
    "AUC_test_LDA = auc_test\n",
    "# calculate roc curve\n",
    "from sklearn.metrics import roc_curve\n",
    "fpr, tpr, thresholds = roc_curve(y_test, probs)\n",
    "plt.plot([0, 1], [0, 1], linestyle='--')\n",
    "# plot the roc curve for the model\n",
    "plt.plot(fpr, tpr, marker='.')\n",
    "# show the plot\n",
    "plt.show()"
   ]
  },
  {
   "cell_type": "markdown",
   "id": "eb20b1c9",
   "metadata": {},
   "source": [
    "### Measuring the Performance of a Machine Learning Model"
   ]
  },
  {
   "cell_type": "code",
   "execution_count": 73,
   "id": "93ea56a6",
   "metadata": {},
   "outputs": [
    {
     "name": "stdout",
     "output_type": "stream",
     "text": [
      "Classification Report Train Data\n",
      "              precision    recall  f1-score   support\n",
      "\n",
      "           0       0.81      0.92      0.86       208\n",
      "           1       0.77      0.56      0.65       102\n",
      "\n",
      "    accuracy                           0.80       310\n",
      "   macro avg       0.79      0.74      0.75       310\n",
      "weighted avg       0.80      0.80      0.79       310\n",
      "\n",
      "Classification Report Test Data\n",
      "              precision    recall  f1-score   support\n",
      "\n",
      "           0       0.84      0.91      0.87        92\n",
      "           1       0.76      0.62      0.68        42\n",
      "\n",
      "    accuracy                           0.82       134\n",
      "   macro avg       0.80      0.77      0.78       134\n",
      "weighted avg       0.82      0.82      0.82       134\n",
      "\n"
     ]
    }
   ],
   "source": [
    "from sklearn.metrics import classification_report\n",
    "print(\"Classification Report Train Data\")\n",
    "print(classification_report(y_train, prediction_train))\n",
    "\n",
    "print(\"Classification Report Test Data\")\n",
    "print(classification_report(y_test, prediction_test))"
   ]
  },
  {
   "cell_type": "code",
   "execution_count": 74,
   "id": "b6561476",
   "metadata": {},
   "outputs": [
    {
     "name": "stdout",
     "output_type": "stream",
     "text": [
      "          Confusion matrix on the train data\n"
     ]
    },
    {
     "data": {
      "image/png": "[encoded data removed]",
      "text/plain": [
       "<Figure size 432x288 with 1 Axes>"
      ]
     },
     "metadata": {
      "needs_background": "light"
     },
     "output_type": "display_data"
    },
    {
     "name": "stdout",
     "output_type": "stream",
     "text": [
      "          Confusion matrix on the test data\n"
     ]
    },
    {
     "data": {
      "image/png": "[encoded data removed]",
      "text/plain": [
       "<Figure size 432x288 with 1 Axes>"
      ]
     },
     "metadata": {
      "needs_background": "light"
     },
     "output_type": "display_data"
    }
   ],
   "source": [
    "# Get the confusion matrix on the train data\n",
    "print(\"          Confusion matrix on the train data\")\n",
    "confusion_matrix(y_train,prediction_train)\n",
    "sns.heatmap(confusion_matrix(y_train,prediction_train),annot=True, fmt='d',cbar=False)\n",
    "plt.xlabel('Predicted Label')\n",
    "plt.ylabel('Actual Label')\n",
    "plt.title('Confusion Matrix')\n",
    "plt.show()\n",
    "# Get the confusion matrix on the test data\n",
    "print(\"          Confusion matrix on the test data\")\n",
    "confusion_matrix(y_test,prediction_test)\n",
    "sns.heatmap(confusion_matrix(y_test,prediction_test),annot=True, fmt='d',cbar=False)\n",
    "plt.xlabel('Predicted Label')\n",
    "plt.ylabel('Actual Label')\n",
    "plt.title('Confusion Matrix')\n",
    "plt.show()"
   ]
  },
  {
   "cell_type": "code",
   "execution_count": 75,
   "id": "09aecc2f",
   "metadata": {},
   "outputs": [],
   "source": [
    "#Public Transport=0, Private Transport=1"
   ]
  },
  {
   "cell_type": "code",
   "execution_count": 76,
   "id": "f3a3990b",
   "metadata": {},
   "outputs": [],
   "source": [
    "c_mat = confusion_matrix(y_train,prediction_train)\n",
    "TP_LDA = c_mat[1,1]   #TP\n",
    "TN_LDA = c_mat[0,0]   #TN\n",
    "FP_LDA = c_mat[1,0]   #FP\n",
    "FN_LDA = c_mat[0,1]   #FN"
   ]
  },
  {
   "cell_type": "markdown",
   "id": "11e2f90c",
   "metadata": {},
   "source": [
    "## - The confusion matrix on Training Data\n",
    "\n",
    "- True Positives (TP): we correctly predicted that they use Private Transport 57\n",
    "\n",
    "- True Negatives (TN): we correctly predicted that they use Public Transport 191\n",
    "\n",
    "- False Positives (FP): we incorrectly predicted that they use Private Transport (a \"Type I error\") 17 Falsely predict positive Type I error\n",
    "\n",
    "- False Negatives (FN): we incorrectly predicted that they use Public Transport (a \"Type II error\") 45 Falsely predict negative Type II error\n",
    "\n",
    "## - The confusion matrix on Testing Data\n",
    "\n",
    "- True Positives (TP): we correctly predicted that they use Private Transport 26\n",
    "\n",
    "- True Negatives (TN): we correctly predicted that they use Public Transport 84\n",
    "\n",
    "- False Positives (FP): we incorrectly predicted that they use Private Transport (a \"Type I error\") 8 Falsely predict positive Type I error\n",
    "\n",
    "- False Negatives (FN): we incorrectly predicted that they use Public Transport (a \"Type II error\") 16 Falsely predict negative Type II error"
   ]
  },
  {
   "cell_type": "markdown",
   "id": "b53c62be",
   "metadata": {},
   "source": [
    "# CART"
   ]
  },
  {
   "cell_type": "code",
   "execution_count": 77,
   "id": "f0753336",
   "metadata": {},
   "outputs": [],
   "source": [
    "df = pd.read_csv(\"C:/Users/Atul Solanki/Desktop/ML PROJECT/cars.csv\")"
   ]
  },
  {
   "cell_type": "code",
   "execution_count": 78,
   "id": "1d74e1bb",
   "metadata": {},
   "outputs": [],
   "source": [
    "#male=0,female=1\n",
    "#Public Transport=0, Private Transport=1\n",
    "df.replace(\"Male\", 0 , inplace =True)\n",
    "df.replace(\"Female\", 1 , inplace =True)\n",
    "df.replace(\"Public Transport\", 0 , inplace =True)\n",
    "df.replace(\"Private Transport\", 1 , inplace =True)"
   ]
  },
  {
   "cell_type": "code",
   "execution_count": 79,
   "id": "da0eb534",
   "metadata": {},
   "outputs": [
    {
     "data": {
      "text/html": [
       "<div>\n",
       "<style scoped>\n",
       "    .dataframe tbody tr th:only-of-type {\n",
       "        vertical-align: middle;\n",
       "    }\n",
       "\n",
       "    .dataframe tbody tr th {\n",
       "        vertical-align: top;\n",
       "    }\n",
       "\n",
       "    .dataframe thead th {\n",
       "        text-align: right;\n",
       "    }\n",
       "</style>\n",
       "<table border=\"1\" class=\"dataframe\">\n",
       "  <thead>\n",
       "    <tr style=\"text-align: right;\">\n",
       "      <th></th>\n",
       "      <th>Age</th>\n",
       "      <th>Gender</th>\n",
       "      <th>Engineer</th>\n",
       "      <th>MBA</th>\n",
       "      <th>Work Exp</th>\n",
       "      <th>Salary</th>\n",
       "      <th>Distance</th>\n",
       "      <th>license</th>\n",
       "      <th>Transport</th>\n",
       "    </tr>\n",
       "  </thead>\n",
       "  <tbody>\n",
       "    <tr>\n",
       "      <th>0</th>\n",
       "      <td>28</td>\n",
       "      <td>0</td>\n",
       "      <td>0</td>\n",
       "      <td>0</td>\n",
       "      <td>4</td>\n",
       "      <td>14.3</td>\n",
       "      <td>3.2</td>\n",
       "      <td>0</td>\n",
       "      <td>0</td>\n",
       "    </tr>\n",
       "    <tr>\n",
       "      <th>1</th>\n",
       "      <td>23</td>\n",
       "      <td>1</td>\n",
       "      <td>1</td>\n",
       "      <td>0</td>\n",
       "      <td>4</td>\n",
       "      <td>8.3</td>\n",
       "      <td>3.3</td>\n",
       "      <td>0</td>\n",
       "      <td>0</td>\n",
       "    </tr>\n",
       "    <tr>\n",
       "      <th>2</th>\n",
       "      <td>29</td>\n",
       "      <td>0</td>\n",
       "      <td>1</td>\n",
       "      <td>0</td>\n",
       "      <td>7</td>\n",
       "      <td>13.4</td>\n",
       "      <td>4.1</td>\n",
       "      <td>0</td>\n",
       "      <td>0</td>\n",
       "    </tr>\n",
       "    <tr>\n",
       "      <th>3</th>\n",
       "      <td>28</td>\n",
       "      <td>1</td>\n",
       "      <td>1</td>\n",
       "      <td>1</td>\n",
       "      <td>5</td>\n",
       "      <td>13.4</td>\n",
       "      <td>4.5</td>\n",
       "      <td>0</td>\n",
       "      <td>0</td>\n",
       "    </tr>\n",
       "    <tr>\n",
       "      <th>4</th>\n",
       "      <td>27</td>\n",
       "      <td>0</td>\n",
       "      <td>1</td>\n",
       "      <td>0</td>\n",
       "      <td>4</td>\n",
       "      <td>13.4</td>\n",
       "      <td>4.6</td>\n",
       "      <td>0</td>\n",
       "      <td>0</td>\n",
       "    </tr>\n",
       "  </tbody>\n",
       "</table>\n",
       "</div>"
      ],
      "text/plain": [
       "   Age  Gender  Engineer  MBA  Work Exp  Salary  Distance  license  Transport\n",
       "0   28       0         0    0         4    14.3       3.2        0          0\n",
       "1   23       1         1    0         4     8.3       3.3        0          0\n",
       "2   29       0         1    0         7    13.4       4.1        0          0\n",
       "3   28       1         1    1         5    13.4       4.5        0          0\n",
       "4   27       0         1    0         4    13.4       4.6        0          0"
      ]
     },
     "execution_count": 79,
     "metadata": {},
     "output_type": "execute_result"
    }
   ],
   "source": [
    "df.head()"
   ]
  },
  {
   "cell_type": "code",
   "execution_count": 80,
   "id": "cadaba10",
   "metadata": {},
   "outputs": [
    {
     "name": "stdout",
     "output_type": "stream",
     "text": [
      "<class 'pandas.core.frame.DataFrame'>\n",
      "RangeIndex: 444 entries, 0 to 443\n",
      "Data columns (total 9 columns):\n",
      " #   Column     Non-Null Count  Dtype  \n",
      "---  ------     --------------  -----  \n",
      " 0   Age        444 non-null    int64  \n",
      " 1   Gender     444 non-null    int64  \n",
      " 2   Engineer   444 non-null    int64  \n",
      " 3   MBA        444 non-null    int64  \n",
      " 4   Work Exp   444 non-null    int64  \n",
      " 5   Salary     444 non-null    float64\n",
      " 6   Distance   444 non-null    float64\n",
      " 7   license    444 non-null    int64  \n",
      " 8   Transport  444 non-null    int64  \n",
      "dtypes: float64(2), int64(7)\n",
      "memory usage: 31.3 KB\n"
     ]
    }
   ],
   "source": [
    "df.info()"
   ]
  },
  {
   "cell_type": "code",
   "execution_count": 81,
   "id": "61598d85",
   "metadata": {},
   "outputs": [],
   "source": [
    "x = df.copy().drop(\"Transport\", axis=1)\n",
    "\n",
    "y = df.copy().pop(\"Transport\")\n"
   ]
  },
  {
   "cell_type": "code",
   "execution_count": 82,
   "id": "10c6bb31",
   "metadata": {},
   "outputs": [],
   "source": [
    "from sklearn.model_selection import train_test_split\n",
    "\n",
    "x_train, x_test, y_train, y_test = train_test_split(x, y, test_size=.30, random_state=1)"
   ]
  },
  {
   "cell_type": "code",
   "execution_count": 83,
   "id": "24f89aee",
   "metadata": {},
   "outputs": [],
   "source": [
    "## Scaling the variables\n",
    "from numpy import asarray\n",
    "from sklearn.preprocessing import MinMaxScaler\n",
    "#Initialize an object for MinMaxScalerScaler\n",
    "sc = MinMaxScaler()\n",
    "#Scale the training data\n",
    "x_train.iloc[:,:2] = sc.fit_transform(x_train.iloc[:,:2])\n",
    "# Apply the transformation on the test data\n",
    "x_test.iloc[:,:2] = sc.transform(x_test.iloc[:,:2])"
   ]
  },
  {
   "cell_type": "code",
   "execution_count": 84,
   "id": "18dde78e",
   "metadata": {},
   "outputs": [],
   "source": [
    "# Initialise a Decision Tree Classifier\n",
    "dt_model = DecisionTreeClassifier(criterion = 'gini', random_state=1)\n",
    "# Fit the model\n",
    "model = dt_model.fit(x_train, y_train)"
   ]
  },
  {
   "cell_type": "code",
   "execution_count": 85,
   "id": "31be2035",
   "metadata": {},
   "outputs": [],
   "source": [
    "from sklearn import tree\n",
    "\n",
    "train_char_label = ['No', 'Yes']\n",
    "ld_Tree_File = open('ld_Tree_File.dot','w')\n",
    "dot_data = tree.export_graphviz(model, \n",
    "                                out_file=ld_Tree_File, \n",
    "                                feature_names = list(x_train), \n",
    "                                class_names = list(train_char_label))\n",
    "\n",
    "ld_Tree_File.close()\n"
   ]
  },
  {
   "cell_type": "markdown",
   "id": "f947b77c",
   "metadata": {},
   "source": [
    "The above code will save a .dot file in your working directory.  \n",
    "WebGraphviz is Graphviz in the Browser.   \n",
    "Copy paste the contents of the file into the link below to get the visualization     \n",
    "http://webgraphviz.com/"
   ]
  },
  {
   "cell_type": "code",
   "execution_count": 86,
   "id": "0c9155f6",
   "metadata": {},
   "outputs": [
    {
     "data": {
      "text/html": [
       "<div>\n",
       "<style scoped>\n",
       "    .dataframe tbody tr th:only-of-type {\n",
       "        vertical-align: middle;\n",
       "    }\n",
       "\n",
       "    .dataframe tbody tr th {\n",
       "        vertical-align: top;\n",
       "    }\n",
       "\n",
       "    .dataframe thead th {\n",
       "        text-align: right;\n",
       "    }\n",
       "</style>\n",
       "<table border=\"1\" class=\"dataframe\">\n",
       "  <thead>\n",
       "    <tr style=\"text-align: right;\">\n",
       "      <th></th>\n",
       "      <th>Percentage Importance</th>\n",
       "    </tr>\n",
       "  </thead>\n",
       "  <tbody>\n",
       "    <tr>\n",
       "      <th>Salary</th>\n",
       "      <td>37.309907</td>\n",
       "    </tr>\n",
       "    <tr>\n",
       "      <th>Distance</th>\n",
       "      <td>16.873298</td>\n",
       "    </tr>\n",
       "    <tr>\n",
       "      <th>Age</th>\n",
       "      <td>13.303665</td>\n",
       "    </tr>\n",
       "    <tr>\n",
       "      <th>Work Exp</th>\n",
       "      <td>12.772382</td>\n",
       "    </tr>\n",
       "    <tr>\n",
       "      <th>license</th>\n",
       "      <td>10.631826</td>\n",
       "    </tr>\n",
       "    <tr>\n",
       "      <th>Gender</th>\n",
       "      <td>4.369135</td>\n",
       "    </tr>\n",
       "    <tr>\n",
       "      <th>Engineer</th>\n",
       "      <td>2.444546</td>\n",
       "    </tr>\n",
       "    <tr>\n",
       "      <th>MBA</th>\n",
       "      <td>2.295241</td>\n",
       "    </tr>\n",
       "  </tbody>\n",
       "</table>\n",
       "</div>"
      ],
      "text/plain": [
       "          Percentage Importance\n",
       "Salary                37.309907\n",
       "Distance              16.873298\n",
       "Age                   13.303665\n",
       "Work Exp              12.772382\n",
       "license               10.631826\n",
       "Gender                 4.369135\n",
       "Engineer               2.444546\n",
       "MBA                    2.295241"
      ]
     },
     "execution_count": 86,
     "metadata": {},
     "output_type": "execute_result"
    }
   ],
   "source": [
    "pd.DataFrame(model.feature_importances_, columns = [\"Percentage Importance\"], index = x_train.columns).sort_values('Percentage Importance',ascending=False)*100"
   ]
  },
  {
   "cell_type": "markdown",
   "id": "6ca53120",
   "metadata": {},
   "source": [
    "### Making Predictions From Our Model"
   ]
  },
  {
   "cell_type": "code",
   "execution_count": 87,
   "id": "c02f0c65",
   "metadata": {},
   "outputs": [],
   "source": [
    "#predict on test\n",
    "prediction_train= model.predict(x_train)\n",
    "prediction_test = model.predict(x_test)"
   ]
  },
  {
   "cell_type": "markdown",
   "id": "3488e560",
   "metadata": {},
   "source": [
    "### Testing the Performance of our Model"
   ]
  },
  {
   "cell_type": "code",
   "execution_count": 88,
   "id": "b65e107d",
   "metadata": {},
   "outputs": [],
   "source": [
    "from sklearn import metrics"
   ]
  },
  {
   "cell_type": "code",
   "execution_count": 89,
   "id": "70fd70b2",
   "metadata": {},
   "outputs": [],
   "source": [
    "Acc_Train_CART = model.score(x_train,y_train)\n",
    "Acc_Test_CART  = model.score(x_test ,y_test )"
   ]
  },
  {
   "cell_type": "code",
   "execution_count": 90,
   "id": "aab1b32d",
   "metadata": {},
   "outputs": [],
   "source": [
    "#Mean Absolute Error (MAE)\n",
    "MAE_CART = metrics.mean_absolute_error(y_test, prediction_test)"
   ]
  },
  {
   "cell_type": "code",
   "execution_count": 91,
   "id": "f9a7c263",
   "metadata": {},
   "outputs": [],
   "source": [
    "#Mean Squared Error (MSE)\n",
    "MSE_CART = metrics.mean_squared_error(y_test, prediction_test)"
   ]
  },
  {
   "cell_type": "code",
   "execution_count": 92,
   "id": "0ca6243b",
   "metadata": {},
   "outputs": [],
   "source": [
    "#Root Mean Squared Error (RMSE)\n",
    "RMSE_CART = np.sqrt(metrics.mean_squared_error(y_test, prediction_test))"
   ]
  },
  {
   "cell_type": "markdown",
   "id": "b7375aef",
   "metadata": {},
   "source": [
    "### Model Evaluation"
   ]
  },
  {
   "cell_type": "code",
   "execution_count": 93,
   "id": "6efebad4",
   "metadata": {},
   "outputs": [
    {
     "name": "stdout",
     "output_type": "stream",
     "text": [
      "AUC: 1.000\n"
     ]
    },
    {
     "data": {
      "image/png": "[encoded data removed]",
      "text/plain": [
       "<Figure size 432x288 with 1 Axes>"
      ]
     },
     "metadata": {
      "needs_background": "light"
     },
     "output_type": "display_data"
    }
   ],
   "source": [
    "# predict probabilities\n",
    "probs = model.predict_proba(x_train)\n",
    "# keep probabilities for the positive outcome only\n",
    "probs = probs[:, 1]\n",
    "# calculate AUC\n",
    "from sklearn.metrics import roc_auc_score\n",
    "auc_train = roc_auc_score(y_train, probs)\n",
    "print('AUC: %.3f' % auc_train)\n",
    "AUC_train_CART = auc_train\n",
    "# calculate roc curve\n",
    "from sklearn.metrics import roc_curve\n",
    "fpr, tpr, thresholds = roc_curve(y_train, probs)\n",
    "plt.plot([0, 1], [0, 1], linestyle='--')\n",
    "# plot the roc curve for the model\n",
    "plt.plot(fpr, tpr, marker='.')\n",
    "# show the plot\n",
    "plt.show()"
   ]
  },
  {
   "cell_type": "code",
   "execution_count": 94,
   "id": "de9ec530",
   "metadata": {},
   "outputs": [
    {
     "name": "stdout",
     "output_type": "stream",
     "text": [
      "AUC: 0.781\n"
     ]
    },
    {
     "data": {
      "image/png": "[encoded data removed]",
      "text/plain": [
       "<Figure size 432x288 with 1 Axes>"
      ]
     },
     "metadata": {
      "needs_background": "light"
     },
     "output_type": "display_data"
    }
   ],
   "source": [
    "# predict probabilities\n",
    "probs = model.predict_proba(x_test)\n",
    "# keep probabilities for the positive outcome only\n",
    "probs = probs[:, 1]\n",
    "# calculate AUC\n",
    "from sklearn.metrics import roc_auc_score\n",
    "auc_test = roc_auc_score(y_test, probs)\n",
    "print('AUC: %.3f' % auc_test)\n",
    "AUC_test_CART = auc_test\n",
    "# calculate roc curve\n",
    "from sklearn.metrics import roc_curve\n",
    "fpr, tpr, thresholds = roc_curve(y_test, probs)\n",
    "plt.plot([0, 1], [0, 1], linestyle='--')\n",
    "# plot the roc curve for the model\n",
    "plt.plot(fpr, tpr, marker='.')\n",
    "# show the plot\n",
    "plt.show()"
   ]
  },
  {
   "cell_type": "markdown",
   "id": "df175ea1",
   "metadata": {},
   "source": [
    "### Measuring the Performance of a Machine Learning Model"
   ]
  },
  {
   "cell_type": "code",
   "execution_count": 95,
   "id": "1c291c0d",
   "metadata": {},
   "outputs": [
    {
     "name": "stdout",
     "output_type": "stream",
     "text": [
      "Classification Report Train Data\n",
      "              precision    recall  f1-score   support\n",
      "\n",
      "           0       1.00      1.00      1.00       208\n",
      "           1       1.00      1.00      1.00       102\n",
      "\n",
      "    accuracy                           1.00       310\n",
      "   macro avg       1.00      1.00      1.00       310\n",
      "weighted avg       1.00      1.00      1.00       310\n",
      "\n",
      "Classification Report Test Data\n",
      "              precision    recall  f1-score   support\n",
      "\n",
      "           0       0.87      0.85      0.86        92\n",
      "           1       0.68      0.71      0.70        42\n",
      "\n",
      "    accuracy                           0.81       134\n",
      "   macro avg       0.77      0.78      0.78       134\n",
      "weighted avg       0.81      0.81      0.81       134\n",
      "\n"
     ]
    }
   ],
   "source": [
    "from sklearn.metrics import classification_report\n",
    "print(\"Classification Report Train Data\")\n",
    "print(classification_report(y_train, prediction_train))\n",
    "\n",
    "print(\"Classification Report Test Data\")\n",
    "print(classification_report(y_test, prediction_test))"
   ]
  },
  {
   "cell_type": "code",
   "execution_count": 96,
   "id": "7e1b4e1e",
   "metadata": {},
   "outputs": [
    {
     "name": "stdout",
     "output_type": "stream",
     "text": [
      "          Confusion matrix on the train data\n"
     ]
    },
    {
     "data": {
      "image/png": "[encoded data removed]",
      "text/plain": [
       "<Figure size 432x288 with 1 Axes>"
      ]
     },
     "metadata": {
      "needs_background": "light"
     },
     "output_type": "display_data"
    },
    {
     "name": "stdout",
     "output_type": "stream",
     "text": [
      "          Confusion matrix on the test data\n"
     ]
    },
    {
     "data": {
      "image/png": "[encoded data removed]",
      "text/plain": [
       "<Figure size 432x288 with 1 Axes>"
      ]
     },
     "metadata": {
      "needs_background": "light"
     },
     "output_type": "display_data"
    }
   ],
   "source": [
    "# Get the confusion matrix on the train data\n",
    "print(\"          Confusion matrix on the train data\")\n",
    "confusion_matrix(y_train,prediction_train)\n",
    "sns.heatmap(confusion_matrix(y_train,prediction_train),annot=True, fmt='d',cbar=False)\n",
    "plt.xlabel('Predicted Label')\n",
    "plt.ylabel('Actual Label')\n",
    "plt.title('Confusion Matrix')\n",
    "plt.show()\n",
    "# Get the confusion matrix on the test data\n",
    "print(\"          Confusion matrix on the test data\")\n",
    "confusion_matrix(y_test,prediction_test)\n",
    "sns.heatmap(confusion_matrix(y_test,prediction_test),annot=True, fmt='d',cbar=False)\n",
    "plt.xlabel('Predicted Label')\n",
    "plt.ylabel('Actual Label')\n",
    "plt.title('Confusion Matrix')\n",
    "plt.show()"
   ]
  },
  {
   "cell_type": "code",
   "execution_count": 97,
   "id": "97d5d4c3",
   "metadata": {},
   "outputs": [],
   "source": [
    "#Public Transport=0, Private Transport=1"
   ]
  },
  {
   "cell_type": "code",
   "execution_count": 98,
   "id": "2dca7024",
   "metadata": {},
   "outputs": [],
   "source": [
    "c_mat = confusion_matrix(y_train,prediction_train)\n",
    "TP_CART = c_mat[1,1]   #TP\n",
    "TN_CART = c_mat[0,0]   #TN\n",
    "FP_CART = c_mat[1,0]   #FP\n",
    "FN_CART = c_mat[0,1]   #FN"
   ]
  },
  {
   "cell_type": "markdown",
   "id": "7664f90a",
   "metadata": {},
   "source": [
    "## - The confusion matrix on Training Data\n",
    "\n",
    "- True Positives (TP): we correctly predicted that they use Private Transport 102\n",
    "\n",
    "- True Negatives (TN): we correctly predicted that they use Public Transport 208\n",
    "\n",
    "- False Positives (FP): we incorrectly predicted that they use Private Transport (a \"Type I error\") 0 Falsely predict positive Type I error\n",
    "\n",
    "- False Negatives (FN): we incorrectly predicted that they use Public Transport (a \"Type II error\") 0 Falsely predict negative Type II error\n",
    "\n",
    "## - The confusion matrix on Testing Data\n",
    "\n",
    "- True Positives (TP): we correctly predicted that they use Private Transport 30\n",
    "\n",
    "- True Negatives (TN): we correctly predicted that they use Public Transport 78\n",
    "\n",
    "- False Positives (FP): we incorrectly predicted that they use Private Transport (a \"Type I error\") 14 Falsely predict positive Type I error\n",
    "\n",
    "- False Negatives (FN): we incorrectly predicted that they use Public Transport (a \"Type II error\") 12 Falsely predict negative Type II error"
   ]
  },
  {
   "cell_type": "markdown",
   "id": "fcccb921",
   "metadata": {},
   "source": [
    "## Regularising the Decision Tree"
   ]
  },
  {
   "cell_type": "markdown",
   "id": "632cdede",
   "metadata": {},
   "source": [
    "### Adding Tuning Parameters"
   ]
  },
  {
   "cell_type": "code",
   "execution_count": 99,
   "id": "accd66d5",
   "metadata": {},
   "outputs": [],
   "source": [
    "param_grid = {\n",
    "    'criterion': [\"gini\"],\n",
    "    'max_depth': [3,4,5,6,7,10,15,25],\n",
    "    'max_features': [2,3,4,5],\n",
    "    'min_samples_split': [2,4,40,50,60,70]\n",
    "}\n",
    "\n",
    "reg_dt_model = DecisionTreeClassifier(random_state=1)\n",
    "\n",
    "\n",
    "grid_search = GridSearchCV(estimator = reg_dt_model, param_grid = param_grid, cv = 15)"
   ]
  },
  {
   "cell_type": "code",
   "execution_count": 100,
   "id": "250a0dd1",
   "metadata": {},
   "outputs": [
    {
     "name": "stdout",
     "output_type": "stream",
     "text": [
      "{'criterion': 'gini', 'max_depth': 7, 'max_features': 2, 'min_samples_split': 4}\n"
     ]
    },
    {
     "data": {
      "text/plain": [
       "DecisionTreeClassifier(max_depth=7, max_features=2, min_samples_split=4,\n",
       "                       random_state=1)"
      ]
     },
     "execution_count": 100,
     "metadata": {},
     "output_type": "execute_result"
    }
   ],
   "source": [
    "grid_search.fit(x_train, y_train)\n",
    "print(grid_search.best_params_)\n",
    "best_grid = grid_search.best_estimator_\n",
    "best_grid"
   ]
  },
  {
   "cell_type": "code",
   "execution_count": 101,
   "id": "63f920f8",
   "metadata": {},
   "outputs": [],
   "source": [
    "################Change best parameters in the next cell"
   ]
  },
  {
   "cell_type": "code",
   "execution_count": 102,
   "id": "162603cb",
   "metadata": {},
   "outputs": [],
   "source": [
    "reg_dt_model = DecisionTreeClassifier(criterion = 'gini', max_depth = 7,max_features=2,min_samples_split=4,random_state=1)\n",
    "model = reg_dt_model.fit(x_train, y_train)"
   ]
  },
  {
   "cell_type": "code",
   "execution_count": 103,
   "id": "c46569b3",
   "metadata": {},
   "outputs": [],
   "source": [
    "tree_regularized = open('tree_regularized.dot','w')\n",
    "dot_data = tree.export_graphviz(model, out_file= tree_regularized , feature_names = list(x_train), class_names = list(train_char_label))\n",
    "\n",
    "tree_regularized.close()\n",
    "dot_data\n",
    "\n",
    "train_char_label = ['No', 'Yes']\n",
    "ld_Tree_File = open('ld_Tree_File.dot','w')\n",
    "dot_data = tree.export_graphviz(model, \n",
    "                                out_file=ld_Tree_File, \n",
    "                                feature_names = list(x_train), \n",
    "                                class_names = list(train_char_label))\n",
    "\n",
    "ld_Tree_File.close()\n"
   ]
  },
  {
   "cell_type": "code",
   "execution_count": 104,
   "id": "89f6aabd",
   "metadata": {},
   "outputs": [
    {
     "data": {
      "text/html": [
       "<div>\n",
       "<style scoped>\n",
       "    .dataframe tbody tr th:only-of-type {\n",
       "        vertical-align: middle;\n",
       "    }\n",
       "\n",
       "    .dataframe tbody tr th {\n",
       "        vertical-align: top;\n",
       "    }\n",
       "\n",
       "    .dataframe thead th {\n",
       "        text-align: right;\n",
       "    }\n",
       "</style>\n",
       "<table border=\"1\" class=\"dataframe\">\n",
       "  <thead>\n",
       "    <tr style=\"text-align: right;\">\n",
       "      <th></th>\n",
       "      <th>Percentage Importance</th>\n",
       "    </tr>\n",
       "  </thead>\n",
       "  <tbody>\n",
       "    <tr>\n",
       "      <th>license</th>\n",
       "      <td>26.333445</td>\n",
       "    </tr>\n",
       "    <tr>\n",
       "      <th>Work Exp</th>\n",
       "      <td>22.865689</td>\n",
       "    </tr>\n",
       "    <tr>\n",
       "      <th>Distance</th>\n",
       "      <td>19.003978</td>\n",
       "    </tr>\n",
       "    <tr>\n",
       "      <th>Age</th>\n",
       "      <td>11.310787</td>\n",
       "    </tr>\n",
       "    <tr>\n",
       "      <th>Salary</th>\n",
       "      <td>11.124701</td>\n",
       "    </tr>\n",
       "    <tr>\n",
       "      <th>Gender</th>\n",
       "      <td>5.116662</td>\n",
       "    </tr>\n",
       "    <tr>\n",
       "      <th>Engineer</th>\n",
       "      <td>4.238832</td>\n",
       "    </tr>\n",
       "    <tr>\n",
       "      <th>MBA</th>\n",
       "      <td>0.005905</td>\n",
       "    </tr>\n",
       "  </tbody>\n",
       "</table>\n",
       "</div>"
      ],
      "text/plain": [
       "          Percentage Importance\n",
       "license               26.333445\n",
       "Work Exp              22.865689\n",
       "Distance              19.003978\n",
       "Age                   11.310787\n",
       "Salary                11.124701\n",
       "Gender                 5.116662\n",
       "Engineer               4.238832\n",
       "MBA                    0.005905"
      ]
     },
     "execution_count": 104,
     "metadata": {},
     "output_type": "execute_result"
    }
   ],
   "source": [
    "pd.DataFrame(model.feature_importances_, columns = [\"Percentage Importance\"], index = x_train.columns).sort_values('Percentage Importance',ascending=False)*100"
   ]
  },
  {
   "cell_type": "markdown",
   "id": "0f090e26",
   "metadata": {},
   "source": [
    "### Making Predictions From Our Model"
   ]
  },
  {
   "cell_type": "code",
   "execution_count": 105,
   "id": "e4bcddd6",
   "metadata": {},
   "outputs": [],
   "source": [
    "#predict on test\n",
    "prediction_train= model.predict(x_train)\n",
    "prediction_test = model.predict(x_test)"
   ]
  },
  {
   "cell_type": "markdown",
   "id": "85ca5a12",
   "metadata": {},
   "source": [
    "### Testing the Performance of our Model"
   ]
  },
  {
   "cell_type": "code",
   "execution_count": 106,
   "id": "fa57f0a3",
   "metadata": {},
   "outputs": [],
   "source": [
    "from sklearn import metrics"
   ]
  },
  {
   "cell_type": "code",
   "execution_count": 107,
   "id": "f552bc3e",
   "metadata": {},
   "outputs": [],
   "source": [
    "Acc_Train_CART_reg = model.score(x_train,y_train)\n",
    "Acc_Test_CART_reg  = model.score(x_test ,y_test )"
   ]
  },
  {
   "cell_type": "code",
   "execution_count": 108,
   "id": "0370216e",
   "metadata": {},
   "outputs": [],
   "source": [
    "#Mean Absolute Error (MAE)\n",
    "MAE_CART_reg = metrics.mean_absolute_error(y_test, prediction_test)"
   ]
  },
  {
   "cell_type": "code",
   "execution_count": 109,
   "id": "219f3e6c",
   "metadata": {},
   "outputs": [],
   "source": [
    "#Mean Squared Error (MSE)\n",
    "MSE_CART_reg = metrics.mean_squared_error(y_test, prediction_test)"
   ]
  },
  {
   "cell_type": "code",
   "execution_count": 110,
   "id": "7cc1342a",
   "metadata": {},
   "outputs": [],
   "source": [
    "#Root Mean Squared Error (RMSE)\n",
    "RMSE_CART_reg = np.sqrt(metrics.mean_squared_error(y_test, prediction_test))"
   ]
  },
  {
   "cell_type": "markdown",
   "id": "4e663649",
   "metadata": {},
   "source": [
    "### Model Evaluation"
   ]
  },
  {
   "cell_type": "code",
   "execution_count": 111,
   "id": "eb19bb2b",
   "metadata": {},
   "outputs": [
    {
     "name": "stdout",
     "output_type": "stream",
     "text": [
      "AUC: 0.966\n"
     ]
    },
    {
     "data": {
      "image/png": "[encoded data removed]",
      "text/plain": [
       "<Figure size 432x288 with 1 Axes>"
      ]
     },
     "metadata": {
      "needs_background": "light"
     },
     "output_type": "display_data"
    }
   ],
   "source": [
    "# predict probabilities\n",
    "probs = model.predict_proba(x_train)\n",
    "# keep probabilities for the positive outcome only\n",
    "probs = probs[:, 1]\n",
    "# calculate AUC\n",
    "from sklearn.metrics import roc_auc_score\n",
    "auc_train = roc_auc_score(y_train, probs)\n",
    "print('AUC: %.3f' % auc_train)\n",
    "AUC_train_CART_reg = auc_train\n",
    "# calculate roc curve\n",
    "from sklearn.metrics import roc_curve\n",
    "fpr, tpr, thresholds = roc_curve(y_train, probs)\n",
    "plt.plot([0, 1], [0, 1], linestyle='--')\n",
    "# plot the roc curve for the model\n",
    "plt.plot(fpr, tpr, marker='.')\n",
    "# show the plot\n",
    "plt.show()"
   ]
  },
  {
   "cell_type": "code",
   "execution_count": 112,
   "id": "e81ba168",
   "metadata": {},
   "outputs": [
    {
     "name": "stdout",
     "output_type": "stream",
     "text": [
      "AUC: 0.683\n"
     ]
    },
    {
     "data": {
      "image/png": "[encoded data removed]",
      "text/plain": [
       "<Figure size 432x288 with 1 Axes>"
      ]
     },
     "metadata": {
      "needs_background": "light"
     },
     "output_type": "display_data"
    }
   ],
   "source": [
    "# predict probabilities\n",
    "probs = model.predict_proba(x_test)\n",
    "# keep probabilities for the positive outcome only\n",
    "probs = probs[:, 1]\n",
    "# calculate AUC\n",
    "from sklearn.metrics import roc_auc_score\n",
    "auc_test = roc_auc_score(y_test, probs)\n",
    "print('AUC: %.3f' % auc_test)\n",
    "AUC_test_CART_reg = auc_test\n",
    "# calculate roc curve\n",
    "from sklearn.metrics import roc_curve\n",
    "fpr, tpr, thresholds = roc_curve(y_test, probs)\n",
    "plt.plot([0, 1], [0, 1], linestyle='--')\n",
    "# plot the roc curve for the model\n",
    "plt.plot(fpr, tpr, marker='.')\n",
    "# show the plot\n",
    "plt.show()"
   ]
  },
  {
   "cell_type": "markdown",
   "id": "776f1445",
   "metadata": {},
   "source": [
    "### Measuring the Performance of a Machine Learning Model"
   ]
  },
  {
   "cell_type": "code",
   "execution_count": 113,
   "id": "7f2d19c5",
   "metadata": {},
   "outputs": [
    {
     "name": "stdout",
     "output_type": "stream",
     "text": [
      "Classification Report Train Data\n",
      "              precision    recall  f1-score   support\n",
      "\n",
      "           0       0.91      0.98      0.94       208\n",
      "           1       0.95      0.79      0.87       102\n",
      "\n",
      "    accuracy                           0.92       310\n",
      "   macro avg       0.93      0.89      0.90       310\n",
      "weighted avg       0.92      0.92      0.92       310\n",
      "\n",
      "Classification Report Test Data\n",
      "              precision    recall  f1-score   support\n",
      "\n",
      "           0       0.81      0.82      0.81        92\n",
      "           1       0.59      0.57      0.58        42\n",
      "\n",
      "    accuracy                           0.74       134\n",
      "   macro avg       0.70      0.69      0.69       134\n",
      "weighted avg       0.74      0.74      0.74       134\n",
      "\n"
     ]
    }
   ],
   "source": [
    "from sklearn.metrics import classification_report\n",
    "print(\"Classification Report Train Data\")\n",
    "print(classification_report(y_train, prediction_train))\n",
    "\n",
    "print(\"Classification Report Test Data\")\n",
    "print(classification_report(y_test, prediction_test))"
   ]
  },
  {
   "cell_type": "code",
   "execution_count": 114,
   "id": "57444607",
   "metadata": {},
   "outputs": [
    {
     "name": "stdout",
     "output_type": "stream",
     "text": [
      "          Confusion matrix on the train data\n"
     ]
    },
    {
     "data": {
      "image/png": "[encoded data removed]",
      "text/plain": [
       "<Figure size 432x288 with 1 Axes>"
      ]
     },
     "metadata": {
      "needs_background": "light"
     },
     "output_type": "display_data"
    },
    {
     "name": "stdout",
     "output_type": "stream",
     "text": [
      "          Confusion matrix on the test data\n"
     ]
    },
    {
     "data": {
      "image/png": "[encoded data removed]",
      "text/plain": [
       "<Figure size 432x288 with 1 Axes>"
      ]
     },
     "metadata": {
      "needs_background": "light"
     },
     "output_type": "display_data"
    }
   ],
   "source": [
    "# Get the confusion matrix on the train data\n",
    "print(\"          Confusion matrix on the train data\")\n",
    "confusion_matrix(y_train,prediction_train)\n",
    "sns.heatmap(confusion_matrix(y_train,prediction_train),annot=True, fmt='d',cbar=False)\n",
    "plt.xlabel('Predicted Label')\n",
    "plt.ylabel('Actual Label')\n",
    "plt.title('Confusion Matrix')\n",
    "plt.show()\n",
    "# Get the confusion matrix on the test data\n",
    "print(\"          Confusion matrix on the test data\")\n",
    "confusion_matrix(y_test,prediction_test)\n",
    "sns.heatmap(confusion_matrix(y_test,prediction_test),annot=True, fmt='d',cbar=False)\n",
    "plt.xlabel('Predicted Label')\n",
    "plt.ylabel('Actual Label')\n",
    "plt.title('Confusion Matrix')\n",
    "plt.show()"
   ]
  },
  {
   "cell_type": "code",
   "execution_count": 115,
   "id": "3260d0eb",
   "metadata": {},
   "outputs": [],
   "source": [
    "#Public Transport=0, Private Transport=1"
   ]
  },
  {
   "cell_type": "code",
   "execution_count": 116,
   "id": "a163d00e",
   "metadata": {},
   "outputs": [],
   "source": [
    "c_mat = confusion_matrix(y_train,prediction_train)\n",
    "TP_CART_reg = c_mat[1,1]   #TP\n",
    "TN_CART_reg = c_mat[0,0]   #TN\n",
    "FP_CART_reg = c_mat[1,0]   #FP\n",
    "FN_CART_reg = c_mat[0,1]   #FN"
   ]
  },
  {
   "cell_type": "markdown",
   "id": "ce41e4ac",
   "metadata": {},
   "source": [
    "## - The confusion matrix on Training Data\n",
    "\n",
    "- True Positives (TP): we correctly predicted that they use Private Transport 81\n",
    "\n",
    "- True Negatives (TN): we correctly predicted that they use Public Transport 204\n",
    "\n",
    "- False Positives (FP): we incorrectly predicted that they use Private Transport (a \"Type I error\") 4 Falsely predict positive Type I error\n",
    "\n",
    "- False Negatives (FN): we incorrectly predicted that they use Public Transport (a \"Type II error\") 21 Falsely predict negative Type II error\n",
    "\n",
    "## - The confusion matrix on Testing Data\n",
    "\n",
    "- True Positives (TP): we correctly predicted that they use Private Transport 24\n",
    "\n",
    "- True Negatives (TN): we correctly predicted that they use Public Transport 75\n",
    "\n",
    "- False Positives (FP): we incorrectly predicted that they use Private Transport (a \"Type I error\") 17 Falsely predict positive Type I error\n",
    "\n",
    "- False Negatives (FN): we incorrectly predicted that they use Public Transport (a \"Type II error\") 18 Falsely predict negative Type II error"
   ]
  },
  {
   "cell_type": "markdown",
   "id": "0091be06",
   "metadata": {},
   "source": [
    "# Random Forest"
   ]
  },
  {
   "cell_type": "code",
   "execution_count": 117,
   "id": "5069f931",
   "metadata": {},
   "outputs": [],
   "source": [
    "#Build a RandomForestCassifier wit n_estimators 100, max_features 6, andfit it on the training data\n",
    "rfcl = RandomForestClassifier(n_estimators = 100, max_features=None, max_depth=None, min_samples_split=2,random_state=1, bootstrap=True, oob_score=True)\n",
    "model = rfcl.fit(x_train, y_train)"
   ]
  },
  {
   "cell_type": "markdown",
   "id": "d1b8115c",
   "metadata": {},
   "source": [
    "### Making Predictions From Our Model"
   ]
  },
  {
   "cell_type": "code",
   "execution_count": 118,
   "id": "ad03d2c6",
   "metadata": {},
   "outputs": [],
   "source": [
    "#predict on test\n",
    "prediction_train= model.predict(x_train)\n",
    "prediction_test = model.predict(x_test)"
   ]
  },
  {
   "cell_type": "markdown",
   "id": "d8b517fe",
   "metadata": {},
   "source": [
    "### Testing the Performance of our Model"
   ]
  },
  {
   "cell_type": "code",
   "execution_count": 119,
   "id": "b57836ba",
   "metadata": {},
   "outputs": [],
   "source": [
    "from sklearn import metrics"
   ]
  },
  {
   "cell_type": "code",
   "execution_count": 120,
   "id": "f4b78802",
   "metadata": {},
   "outputs": [],
   "source": [
    "Acc_Train_RF = model.score(x_train,y_train)\n",
    "Acc_Test_RF  = model.score(x_test ,y_test )"
   ]
  },
  {
   "cell_type": "code",
   "execution_count": 121,
   "id": "f6503390",
   "metadata": {},
   "outputs": [],
   "source": [
    "#Mean Absolute Error (MAE)\n",
    "MAE_RF = metrics.mean_absolute_error(y_test, prediction_test)"
   ]
  },
  {
   "cell_type": "code",
   "execution_count": 122,
   "id": "98fabe6c",
   "metadata": {},
   "outputs": [],
   "source": [
    "#Mean Squared Error (MSE)\n",
    "MSE_RF = metrics.mean_squared_error(y_test, prediction_test)"
   ]
  },
  {
   "cell_type": "code",
   "execution_count": 123,
   "id": "9100feb7",
   "metadata": {},
   "outputs": [],
   "source": [
    "#Root Mean Squared Error (RMSE)\n",
    "RMSE_RF = np.sqrt(metrics.mean_squared_error(y_test, prediction_test))"
   ]
  },
  {
   "cell_type": "markdown",
   "id": "fd3ab0af",
   "metadata": {},
   "source": [
    "### Model Evaluation"
   ]
  },
  {
   "cell_type": "code",
   "execution_count": 124,
   "id": "8e6100ab",
   "metadata": {},
   "outputs": [
    {
     "name": "stdout",
     "output_type": "stream",
     "text": [
      "AUC: 1.000\n"
     ]
    },
    {
     "data": {
      "image/png": "[encoded data removed]",
      "text/plain": [
       "<Figure size 432x288 with 1 Axes>"
      ]
     },
     "metadata": {
      "needs_background": "light"
     },
     "output_type": "display_data"
    }
   ],
   "source": [
    "# predict probabilities\n",
    "probs = model.predict_proba(x_train)\n",
    "# keep probabilities for the positive outcome only\n",
    "probs = probs[:, 1]\n",
    "# calculate AUC\n",
    "from sklearn.metrics import roc_auc_score\n",
    "auc_train = roc_auc_score(y_train, probs)\n",
    "print('AUC: %.3f' % auc_train)\n",
    "AUC_train_RF = auc_train\n",
    "# calculate roc curve\n",
    "from sklearn.metrics import roc_curve\n",
    "fpr, tpr, thresholds = roc_curve(y_train, probs)\n",
    "plt.plot([0, 1], [0, 1], linestyle='--')\n",
    "# plot the roc curve for the model\n",
    "plt.plot(fpr, tpr, marker='.')\n",
    "# show the plot\n",
    "plt.show()"
   ]
  },
  {
   "cell_type": "code",
   "execution_count": 125,
   "id": "27b7a071",
   "metadata": {},
   "outputs": [
    {
     "name": "stdout",
     "output_type": "stream",
     "text": [
      "AUC: 0.852\n"
     ]
    },
    {
     "data": {
      "image/png": "[encoded data removed]",
      "text/plain": [
       "<Figure size 432x288 with 1 Axes>"
      ]
     },
     "metadata": {
      "needs_background": "light"
     },
     "output_type": "display_data"
    }
   ],
   "source": [
    "# predict probabilities\n",
    "probs = model.predict_proba(x_test)\n",
    "# keep probabilities for the positive outcome only\n",
    "probs = probs[:, 1]\n",
    "# calculate AUC\n",
    "from sklearn.metrics import roc_auc_score\n",
    "auc_test = roc_auc_score(y_test, probs)\n",
    "print('AUC: %.3f' % auc_test)\n",
    "AUC_test_RF = auc_test\n",
    "# calculate roc curve\n",
    "from sklearn.metrics import roc_curve\n",
    "fpr, tpr, thresholds = roc_curve(y_test, probs)\n",
    "plt.plot([0, 1], [0, 1], linestyle='--')\n",
    "# plot the roc curve for the model\n",
    "plt.plot(fpr, tpr, marker='.')\n",
    "# show the plot\n",
    "plt.show()"
   ]
  },
  {
   "cell_type": "markdown",
   "id": "b0ae0976",
   "metadata": {},
   "source": [
    "### Measuring the Performance of a Machine Learning Model"
   ]
  },
  {
   "cell_type": "code",
   "execution_count": 126,
   "id": "49bb6f24",
   "metadata": {},
   "outputs": [
    {
     "name": "stdout",
     "output_type": "stream",
     "text": [
      "Classification Report Train Data\n",
      "              precision    recall  f1-score   support\n",
      "\n",
      "           0       1.00      1.00      1.00       208\n",
      "           1       1.00      1.00      1.00       102\n",
      "\n",
      "    accuracy                           1.00       310\n",
      "   macro avg       1.00      1.00      1.00       310\n",
      "weighted avg       1.00      1.00      1.00       310\n",
      "\n",
      "Classification Report Test Data\n",
      "              precision    recall  f1-score   support\n",
      "\n",
      "           0       0.86      0.89      0.88        92\n",
      "           1       0.74      0.69      0.72        42\n",
      "\n",
      "    accuracy                           0.83       134\n",
      "   macro avg       0.80      0.79      0.80       134\n",
      "weighted avg       0.83      0.83      0.83       134\n",
      "\n"
     ]
    }
   ],
   "source": [
    "from sklearn.metrics import classification_report\n",
    "print(\"Classification Report Train Data\")\n",
    "print(classification_report(y_train, prediction_train))\n",
    "\n",
    "print(\"Classification Report Test Data\")\n",
    "print(classification_report(y_test, prediction_test))"
   ]
  },
  {
   "cell_type": "code",
   "execution_count": 127,
   "id": "405f8b2d",
   "metadata": {},
   "outputs": [
    {
     "name": "stdout",
     "output_type": "stream",
     "text": [
      "          Confusion matrix on the train data\n"
     ]
    },
    {
     "data": {
      "image/png": "[encoded data removed]",
      "text/plain": [
       "<Figure size 432x288 with 1 Axes>"
      ]
     },
     "metadata": {
      "needs_background": "light"
     },
     "output_type": "display_data"
    },
    {
     "name": "stdout",
     "output_type": "stream",
     "text": [
      "          Confusion matrix on the test data\n"
     ]
    },
    {
     "data": {
      "image/png": "[encoded data removed]",
      "text/plain": [
       "<Figure size 432x288 with 1 Axes>"
      ]
     },
     "metadata": {
      "needs_background": "light"
     },
     "output_type": "display_data"
    }
   ],
   "source": [
    "# Get the confusion matrix on the train data\n",
    "print(\"          Confusion matrix on the train data\")\n",
    "confusion_matrix(y_train,prediction_train)\n",
    "sns.heatmap(confusion_matrix(y_train,prediction_train),annot=True, fmt='d',cbar=False)\n",
    "plt.xlabel('Predicted Label')\n",
    "plt.ylabel('Actual Label')\n",
    "plt.title('Confusion Matrix')\n",
    "plt.show()\n",
    "# Get the confusion matrix on the test data\n",
    "print(\"          Confusion matrix on the test data\")\n",
    "confusion_matrix(y_test,prediction_test)\n",
    "sns.heatmap(confusion_matrix(y_test,prediction_test),annot=True, fmt='d',cbar=False)\n",
    "plt.xlabel('Predicted Label')\n",
    "plt.ylabel('Actual Label')\n",
    "plt.title('Confusion Matrix')\n",
    "plt.show()"
   ]
  },
  {
   "cell_type": "code",
   "execution_count": 128,
   "id": "39b70f6e",
   "metadata": {},
   "outputs": [],
   "source": [
    "#Public Transport=0, Private Transport=1"
   ]
  },
  {
   "cell_type": "code",
   "execution_count": 129,
   "id": "0b7cdf4c",
   "metadata": {},
   "outputs": [],
   "source": [
    "c_mat = confusion_matrix(y_train,prediction_train)\n",
    "TP_RF = c_mat[1,1]   #TP\n",
    "TN_RF = c_mat[0,0]   #TN\n",
    "FP_RF = c_mat[1,0]   #FP\n",
    "FN_RF = c_mat[0,1]   #FN"
   ]
  },
  {
   "cell_type": "markdown",
   "id": "0df2a059",
   "metadata": {},
   "source": [
    "## - The confusion matrix on Training Data\n",
    "\n",
    "- True Positives (TP): we correctly predicted that they use Private Transport 102\n",
    "\n",
    "- True Negatives (TN): we correctly predicted that they use Public Transport 208\n",
    "\n",
    "- False Positives (FP): we incorrectly predicted that they use Private Transport (a \"Type I error\") 4 Falsely predict positive Type I error\n",
    "\n",
    "- False Negatives (FN): we incorrectly predicted that they use Public Transport (a \"Type II error\") 21 Falsely predict negative Type II error\n",
    "\n",
    "## - The confusion matrix on Testing Data\n",
    "\n",
    "- True Positives (TP): we correctly predicted that they use Private Transport 29\n",
    "\n",
    "- True Negatives (TN): we correctly predicted that they use Public Transport 82\n",
    "\n",
    "- False Positives (FP): we incorrectly predicted that they use Private Transport (a \"Type I error\") 10 Falsely predict positive Type I error\n",
    "\n",
    "- False Negatives (FN): we incorrectly predicted that they use Public Transport (a \"Type II error\") 13 Falsely predict negative Type II error"
   ]
  },
  {
   "cell_type": "code",
   "execution_count": 130,
   "id": "4f0e00ea",
   "metadata": {},
   "outputs": [],
   "source": [
    "######################################"
   ]
  },
  {
   "cell_type": "code",
   "execution_count": 131,
   "id": "02de59c1",
   "metadata": {},
   "outputs": [
    {
     "name": "stdout",
     "output_type": "stream",
     "text": [
      "{'criterion': 'gini', 'max_depth': 10, 'max_features': 3, 'min_samples_split': 5, 'n_estimators': 100, 'warm_start': True}\n"
     ]
    },
    {
     "data": {
      "text/plain": [
       "RandomForestClassifier(max_depth=10, max_features=3, min_samples_split=5,\n",
       "                       random_state=1, warm_start=True)"
      ]
     },
     "execution_count": 131,
     "metadata": {},
     "output_type": "execute_result"
    }
   ],
   "source": [
    "param_grid = {\n",
    "    'criterion': [\"gini\"],\n",
    "    'n_estimators' : [10,20,50,100],\n",
    "    'warm_start' : [True,False],\n",
    "    'max_depth': [3,5,10],\n",
    "    'max_features': [3,5,9],\n",
    "    'min_samples_split': [5,10,15]\n",
    "}\n",
    "\n",
    "rfcl = RandomForestClassifier(random_state=1)\n",
    "\n",
    "grid_search = GridSearchCV(estimator = rfcl, param_grid = param_grid, cv = 5)\n",
    "\n",
    "grid_search.fit(x_train, y_train)\n",
    "print(grid_search.best_params_)\n",
    "best_grid = grid_search.best_estimator_\n",
    "best_grid"
   ]
  },
  {
   "cell_type": "code",
   "execution_count": 132,
   "id": "fa20b3d0",
   "metadata": {},
   "outputs": [],
   "source": [
    "################Change best parameters in the next cell"
   ]
  },
  {
   "cell_type": "code",
   "execution_count": 133,
   "id": "566975d9",
   "metadata": {},
   "outputs": [],
   "source": [
    "#Build a RandomForestCassifier wit n_estimators 100, max_features 6, andfit it on the training data\n",
    "rfcl = RandomForestClassifier(n_estimators = 500, warm_start = True, max_features=8, max_depth=5, min_samples_split=11,random_state=1, bootstrap=True, oob_score=True)\n",
    "model = rfcl.fit(x_train, y_train)"
   ]
  },
  {
   "cell_type": "markdown",
   "id": "ed82e130",
   "metadata": {},
   "source": [
    "### Making Predictions From Our Model"
   ]
  },
  {
   "cell_type": "code",
   "execution_count": 134,
   "id": "d221283c",
   "metadata": {},
   "outputs": [],
   "source": [
    "#predict on test\n",
    "prediction_train= model.predict(x_train)\n",
    "prediction_test = model.predict(x_test)"
   ]
  },
  {
   "cell_type": "markdown",
   "id": "097997d8",
   "metadata": {},
   "source": [
    "### Testing the Performance of our Model"
   ]
  },
  {
   "cell_type": "code",
   "execution_count": 135,
   "id": "f8cc5dca",
   "metadata": {},
   "outputs": [],
   "source": [
    "from sklearn import metrics"
   ]
  },
  {
   "cell_type": "code",
   "execution_count": 136,
   "id": "b67dd243",
   "metadata": {},
   "outputs": [],
   "source": [
    "Acc_Train_RF_tune = model.score(x_train,y_train)\n",
    "Acc_Test_RF_tune  = model.score(x_test ,y_test )"
   ]
  },
  {
   "cell_type": "code",
   "execution_count": 137,
   "id": "b03f400e",
   "metadata": {},
   "outputs": [],
   "source": [
    "#Mean Absolute Error (MAE)\n",
    "MAE_RF_tune = metrics.mean_absolute_error(y_test, prediction_test)"
   ]
  },
  {
   "cell_type": "code",
   "execution_count": 138,
   "id": "a22890c4",
   "metadata": {},
   "outputs": [],
   "source": [
    "#Mean Squared Error (MSE)\n",
    "MSE_RF_tune = metrics.mean_squared_error(y_test, prediction_test)"
   ]
  },
  {
   "cell_type": "code",
   "execution_count": 139,
   "id": "9516a09e",
   "metadata": {},
   "outputs": [],
   "source": [
    "#Root Mean Squared Error (RMSE)\n",
    "RMSE_RF_tune = np.sqrt(metrics.mean_squared_error(y_test, prediction_test))"
   ]
  },
  {
   "cell_type": "markdown",
   "id": "5f2b04f0",
   "metadata": {},
   "source": [
    "### Model Evaluation"
   ]
  },
  {
   "cell_type": "code",
   "execution_count": 140,
   "id": "8b40180d",
   "metadata": {},
   "outputs": [
    {
     "name": "stdout",
     "output_type": "stream",
     "text": [
      "AUC: 0.965\n"
     ]
    },
    {
     "data": {
      "image/png": "[encoded data removed]",
      "text/plain": [
       "<Figure size 432x288 with 1 Axes>"
      ]
     },
     "metadata": {
      "needs_background": "light"
     },
     "output_type": "display_data"
    }
   ],
   "source": [
    "# predict probabilities\n",
    "probs = model.predict_proba(x_train)\n",
    "# keep probabilities for the positive outcome only\n",
    "probs = probs[:, 1]\n",
    "# calculate AUC\n",
    "from sklearn.metrics import roc_auc_score\n",
    "auc_train = roc_auc_score(y_train, probs)\n",
    "print('AUC: %.3f' % auc_train)\n",
    "AUC_train_RF_tune = auc_train\n",
    "# calculate roc curve\n",
    "from sklearn.metrics import roc_curve\n",
    "fpr, tpr, thresholds = roc_curve(y_train, probs)\n",
    "plt.plot([0, 1], [0, 1], linestyle='--')\n",
    "# plot the roc curve for the model\n",
    "plt.plot(fpr, tpr, marker='.')\n",
    "# show the plot\n",
    "plt.show()"
   ]
  },
  {
   "cell_type": "code",
   "execution_count": 141,
   "id": "c75a1f26",
   "metadata": {},
   "outputs": [
    {
     "name": "stdout",
     "output_type": "stream",
     "text": [
      "AUC: 0.834\n"
     ]
    },
    {
     "data": {
      "image/png": "[encoded data removed]",
      "text/plain": [
       "<Figure size 432x288 with 1 Axes>"
      ]
     },
     "metadata": {
      "needs_background": "light"
     },
     "output_type": "display_data"
    }
   ],
   "source": [
    "# predict probabilities\n",
    "probs = model.predict_proba(x_test)\n",
    "# keep probabilities for the positive outcome only\n",
    "probs = probs[:, 1]\n",
    "# calculate AUC\n",
    "from sklearn.metrics import roc_auc_score\n",
    "auc_test = roc_auc_score(y_test, probs)\n",
    "print('AUC: %.3f' % auc_test)\n",
    "AUC_test_RF_tune = auc_test\n",
    "# calculate roc curve\n",
    "from sklearn.metrics import roc_curve\n",
    "fpr, tpr, thresholds = roc_curve(y_test, probs)\n",
    "plt.plot([0, 1], [0, 1], linestyle='--')\n",
    "# plot the roc curve for the model\n",
    "plt.plot(fpr, tpr, marker='.')\n",
    "# show the plot\n",
    "plt.show()"
   ]
  },
  {
   "cell_type": "markdown",
   "id": "adac764b",
   "metadata": {},
   "source": [
    "### Measuring the Performance of a Machine Learning Model"
   ]
  },
  {
   "cell_type": "code",
   "execution_count": 142,
   "id": "9247f831",
   "metadata": {},
   "outputs": [
    {
     "name": "stdout",
     "output_type": "stream",
     "text": [
      "Classification Report Train Data\n",
      "              precision    recall  f1-score   support\n",
      "\n",
      "           0       0.88      0.98      0.93       208\n",
      "           1       0.95      0.72      0.82       102\n",
      "\n",
      "    accuracy                           0.89       310\n",
      "   macro avg       0.91      0.85      0.87       310\n",
      "weighted avg       0.90      0.89      0.89       310\n",
      "\n",
      "Classification Report Test Data\n",
      "              precision    recall  f1-score   support\n",
      "\n",
      "           0       0.84      0.92      0.88        92\n",
      "           1       0.79      0.62      0.69        42\n",
      "\n",
      "    accuracy                           0.83       134\n",
      "   macro avg       0.81      0.77      0.79       134\n",
      "weighted avg       0.82      0.83      0.82       134\n",
      "\n"
     ]
    }
   ],
   "source": [
    "from sklearn.metrics import classification_report\n",
    "print(\"Classification Report Train Data\")\n",
    "print(classification_report(y_train, prediction_train))\n",
    "\n",
    "print(\"Classification Report Test Data\")\n",
    "print(classification_report(y_test, prediction_test))"
   ]
  },
  {
   "cell_type": "code",
   "execution_count": 143,
   "id": "89c4fb23",
   "metadata": {},
   "outputs": [
    {
     "name": "stdout",
     "output_type": "stream",
     "text": [
      "          Confusion matrix on the train data\n"
     ]
    },
    {
     "data": {
      "image/png": "[encoded data removed]",
      "text/plain": [
       "<Figure size 432x288 with 1 Axes>"
      ]
     },
     "metadata": {
      "needs_background": "light"
     },
     "output_type": "display_data"
    },
    {
     "name": "stdout",
     "output_type": "stream",
     "text": [
      "          Confusion matrix on the test data\n"
     ]
    },
    {
     "data": {
      "image/png": "[encoded data removed]",
      "text/plain": [
       "<Figure size 432x288 with 1 Axes>"
      ]
     },
     "metadata": {
      "needs_background": "light"
     },
     "output_type": "display_data"
    }
   ],
   "source": [
    "# Get the confusion matrix on the train data\n",
    "print(\"          Confusion matrix on the train data\")\n",
    "confusion_matrix(y_train,prediction_train)\n",
    "sns.heatmap(confusion_matrix(y_train,prediction_train),annot=True, fmt='d',cbar=False)\n",
    "plt.xlabel('Predicted Label')\n",
    "plt.ylabel('Actual Label')\n",
    "plt.title('Confusion Matrix')\n",
    "plt.show()\n",
    "# Get the confusion matrix on the test data\n",
    "print(\"          Confusion matrix on the test data\")\n",
    "confusion_matrix(y_test,prediction_test)\n",
    "sns.heatmap(confusion_matrix(y_test,prediction_test),annot=True, fmt='d',cbar=False)\n",
    "plt.xlabel('Predicted Label')\n",
    "plt.ylabel('Actual Label')\n",
    "plt.title('Confusion Matrix')\n",
    "plt.show()"
   ]
  },
  {
   "cell_type": "code",
   "execution_count": 144,
   "id": "e0999ab6",
   "metadata": {},
   "outputs": [],
   "source": [
    "#Public Transport=0, Private Transport=1"
   ]
  },
  {
   "cell_type": "code",
   "execution_count": 145,
   "id": "13dd168b",
   "metadata": {},
   "outputs": [],
   "source": [
    "c_mat = confusion_matrix(y_train,prediction_train)\n",
    "TP_RF_tune = c_mat[1,1]   #TP\n",
    "TN_RF_tune = c_mat[0,0]   #TN\n",
    "FP_RF_tune = c_mat[1,0]   #FP\n",
    "FN_RF_tune = c_mat[0,1]   #FN"
   ]
  },
  {
   "cell_type": "markdown",
   "id": "48c0d21d",
   "metadata": {},
   "source": [
    "## - The confusion matrix on Training Data\n",
    "\n",
    "- True Positives (TP): we correctly predicted that they use Private Transport 73\n",
    "\n",
    "- True Negatives (TN): we correctly predicted that they use Public Transport 204\n",
    "\n",
    "- False Positives (FP): we incorrectly predicted that they use Private Transport (a \"Type I error\") 4 Falsely predict positive Type I error\n",
    "\n",
    "- False Negatives (FN): we incorrectly predicted that they use Public Transport (a \"Type II error\") 29 Falsely predict negative Type II error\n",
    "\n",
    "## - The confusion matrix on Testing Data\n",
    "\n",
    "- True Positives (TP): we correctly predicted that they use Private Transport 26\n",
    "\n",
    "- True Negatives (TN): we correctly predicted that they use Public Transport 85\n",
    "\n",
    "- False Positives (FP): we incorrectly predicted that they use Private Transport (a \"Type I error\") 7 Falsely predict positive Type I error\n",
    "\n",
    "- False Negatives (FN): we incorrectly predicted that they use Public Transport (a \"Type II error\") 16 Falsely predict negative Type II error"
   ]
  },
  {
   "cell_type": "markdown",
   "id": "824c4479",
   "metadata": {},
   "source": [
    "# FINAL MODEL COMPARISON"
   ]
  },
  {
   "cell_type": "code",
   "execution_count": 153,
   "id": "e893e0dc",
   "metadata": {},
   "outputs": [
    {
     "ename": "SyntaxError",
     "evalue": "invalid syntax (Temp/ipykernel_10412/2376240937.py, line 16)",
     "output_type": "error",
     "traceback": [
      "\u001b[1;36m  File \u001b[1;32m\"C:\\Users\\Atul Solanki\\AppData\\Local\\Temp/ipykernel_10412/2376240937.py\"\u001b[1;36m, line \u001b[1;32m16\u001b[0m\n\u001b[1;33m    Model_Performance = pd.DataFrame(data,columns=['Model',\"Acc_Train\",\"Acc_Test\",\"AUC_train\", \"AUC_test\",'MAE','MSE','RMSE',\"TP\",'TN','FP','FN'])\u001b[0m\n\u001b[1;37m    ^\u001b[0m\n\u001b[1;31mSyntaxError\u001b[0m\u001b[1;31m:\u001b[0m invalid syntax\n"
     ]
    }
   ],
   "source": [
    "# Import pandas library\n",
    "import pandas as pd\n",
    "\n",
    "# initialize list of lists\n",
    "data = [\n",
    "        ['Logistic Regression'               ,Acc_Train_LR        ,Acc_Test_LR        ,AUC_train_LR        , AUC_test_LR        ,MAE_LR        ,MSE_LR        ,RMSE_LR        ,TP_LR,        TN_LR        ,FP_LR        ,FN_LR], \n",
    "        ['Naive Bayes'                       ,Acc_Train_NB        ,Acc_Test_NB        ,AUC_train_NB        , AUC_test_NB        ,MAE_NB        ,MSE_NB        ,RMSE_NB        ,TP_NB        ,TN_NB        ,FP_NB        ,FN_NB], \n",
    "        ['k-Nearest Neighbour'               ,Acc_Train_kNN       ,Acc_Test_kNN       ,AUC_train_kNN       , AUC_test_kNN       ,MAE_kNN       ,MSE_kNN       ,RMSE_kNN       ,TP_kNN       ,TN_kNN       ,FP_kNN       ,FN_kNN, \n",
    "        ['Linear Discriminant Analysis'      ,Acc_Train_LDA       ,Acc_Test_LDA       ,AUC_train_LDA       , AUC_test_LDA       ,MAE_LDA       ,MSE_LDA       ,RMSE_LDA       ,TP_LDA       ,TN_LDA       ,FP_LDA       ,FN_LDA],\n",
    "        ['Classification And Regression Tree',Acc_Train_CART      ,Acc_Test_CART      ,AUC_train_CART      , AUC_test_CART      ,MAE_CART      ,MSE_CART      ,RMSE_CART      ,TP_CART      ,TN_CART      ,FP_CART      ,FN_CART],\n",
    "        ['Regularised CART'                  ,Acc_Train_CART_reg  ,Acc_Test_CART_reg  ,AUC_train_CART_reg  , AUC_test_CART_reg  ,MAE_CART_reg  ,MSE_CART_reg  ,RMSE_CART_reg  ,TP_CART_reg  ,TN_CART_reg  ,FP_CART_reg  ,FN_CART_reg],\n",
    "        ['Random Forest'                     ,Acc_Train_RF        ,Acc_Test_RF        ,AUC_train_RF        , AUC_test_RF        ,MAE_RF        ,MSE_RF        ,RMSE_RF        ,TP_RF        ,TN_RF        ,FP_RF,FN_RF] ,\n",
    "        ['Random Forest_tune'                ,Acc_Train_RF_tune   ,Acc_Test_RF_tune   ,AUC_train_RF_tune   , AUC_test_RF_tune   ,MAE_RF_tune   ,MSE_RF_tune   ,RMSE_RF_tune   ,TP_RF_tune   ,TN_RF_tune   ,FP_RF_tune   ,FN_RF_tune]\n",
    "       ]\n",
    "# Create the pandas DataFrame\n",
    "Model_Performance = pd.DataFrame(data,columns=['Model',\"Acc_Train\",\"Acc_Test\",\"AUC_train\", \"AUC_test\",'MAE','MSE','RMSE',\"TP\",'TN','FP','FN'])\n",
    "\n",
    "# print dataframe.\n",
    "Model_Performance\n"
   ]
  },
  {
   "cell_type": "code",
   "execution_count": 159,
   "id": "b8ce3058",
   "metadata": {},
   "outputs": [
    {
     "data": {
      "text/html": [
       "<div>\n",
       "<style scoped>\n",
       "    .dataframe tbody tr th:only-of-type {\n",
       "        vertical-align: middle;\n",
       "    }\n",
       "\n",
       "    .dataframe tbody tr th {\n",
       "        vertical-align: top;\n",
       "    }\n",
       "\n",
       "    .dataframe thead th {\n",
       "        text-align: right;\n",
       "    }\n",
       "</style>\n",
       "<table border=\"1\" class=\"dataframe\">\n",
       "  <thead>\n",
       "    <tr style=\"text-align: right;\">\n",
       "      <th></th>\n",
       "      <th>Model</th>\n",
       "      <th>Acc_Train</th>\n",
       "      <th>Acc_Test</th>\n",
       "      <th>AUC_train</th>\n",
       "      <th>AUC_test</th>\n",
       "      <th>MAE</th>\n",
       "      <th>MSE</th>\n",
       "      <th>RMSE</th>\n",
       "      <th>TP</th>\n",
       "      <th>TN</th>\n",
       "      <th>FP</th>\n",
       "      <th>FN</th>\n",
       "    </tr>\n",
       "  </thead>\n",
       "  <tbody>\n",
       "    <tr>\n",
       "      <th>2</th>\n",
       "      <td>k-Nearest Neighbour</td>\n",
       "      <td>1.000000</td>\n",
       "      <td>0.783582</td>\n",
       "      <td>1.000000</td>\n",
       "      <td>0.760093</td>\n",
       "      <td>0.216418</td>\n",
       "      <td>0.216418</td>\n",
       "      <td>0.465207</td>\n",
       "      <td>102</td>\n",
       "      <td>208</td>\n",
       "      <td>0</td>\n",
       "      <td>0</td>\n",
       "    </tr>\n",
       "    <tr>\n",
       "      <th>4</th>\n",
       "      <td>Classification And Regression Tree</td>\n",
       "      <td>1.000000</td>\n",
       "      <td>0.805970</td>\n",
       "      <td>1.000000</td>\n",
       "      <td>0.781056</td>\n",
       "      <td>0.194030</td>\n",
       "      <td>0.194030</td>\n",
       "      <td>0.440488</td>\n",
       "      <td>102</td>\n",
       "      <td>208</td>\n",
       "      <td>0</td>\n",
       "      <td>0</td>\n",
       "    </tr>\n",
       "    <tr>\n",
       "      <th>6</th>\n",
       "      <td>Random Forest</td>\n",
       "      <td>1.000000</td>\n",
       "      <td>0.828358</td>\n",
       "      <td>1.000000</td>\n",
       "      <td>0.851967</td>\n",
       "      <td>0.171642</td>\n",
       "      <td>0.171642</td>\n",
       "      <td>0.414297</td>\n",
       "      <td>102</td>\n",
       "      <td>208</td>\n",
       "      <td>0</td>\n",
       "      <td>0</td>\n",
       "    </tr>\n",
       "    <tr>\n",
       "      <th>5</th>\n",
       "      <td>Regularised CART</td>\n",
       "      <td>0.919355</td>\n",
       "      <td>0.738806</td>\n",
       "      <td>0.966440</td>\n",
       "      <td>0.682971</td>\n",
       "      <td>0.261194</td>\n",
       "      <td>0.261194</td>\n",
       "      <td>0.511071</td>\n",
       "      <td>81</td>\n",
       "      <td>204</td>\n",
       "      <td>21</td>\n",
       "      <td>4</td>\n",
       "    </tr>\n",
       "    <tr>\n",
       "      <th>7</th>\n",
       "      <td>Random Forest_tune</td>\n",
       "      <td>0.893548</td>\n",
       "      <td>0.828358</td>\n",
       "      <td>0.965026</td>\n",
       "      <td>0.834110</td>\n",
       "      <td>0.171642</td>\n",
       "      <td>0.171642</td>\n",
       "      <td>0.414297</td>\n",
       "      <td>73</td>\n",
       "      <td>204</td>\n",
       "      <td>29</td>\n",
       "      <td>4</td>\n",
       "    </tr>\n",
       "    <tr>\n",
       "      <th>3</th>\n",
       "      <td>Linear Discriminant Analysis</td>\n",
       "      <td>0.800000</td>\n",
       "      <td>0.820896</td>\n",
       "      <td>0.833522</td>\n",
       "      <td>0.809783</td>\n",
       "      <td>0.179104</td>\n",
       "      <td>0.179104</td>\n",
       "      <td>0.423207</td>\n",
       "      <td>57</td>\n",
       "      <td>191</td>\n",
       "      <td>45</td>\n",
       "      <td>17</td>\n",
       "    </tr>\n",
       "    <tr>\n",
       "      <th>0</th>\n",
       "      <td>Logistic Regression</td>\n",
       "      <td>0.790323</td>\n",
       "      <td>0.820896</td>\n",
       "      <td>0.832155</td>\n",
       "      <td>0.817805</td>\n",
       "      <td>0.179104</td>\n",
       "      <td>0.179104</td>\n",
       "      <td>0.423207</td>\n",
       "      <td>53</td>\n",
       "      <td>192</td>\n",
       "      <td>49</td>\n",
       "      <td>16</td>\n",
       "    </tr>\n",
       "    <tr>\n",
       "      <th>1</th>\n",
       "      <td>Naive Bayes</td>\n",
       "      <td>0.793548</td>\n",
       "      <td>0.791045</td>\n",
       "      <td>0.797511</td>\n",
       "      <td>0.780538</td>\n",
       "      <td>0.208955</td>\n",
       "      <td>0.208955</td>\n",
       "      <td>0.457116</td>\n",
       "      <td>51</td>\n",
       "      <td>195</td>\n",
       "      <td>51</td>\n",
       "      <td>13</td>\n",
       "    </tr>\n",
       "  </tbody>\n",
       "</table>\n",
       "</div>"
      ],
      "text/plain": [
       "                                Model  Acc_Train  Acc_Test  AUC_train  \\\n",
       "2                 k-Nearest Neighbour   1.000000  0.783582   1.000000   \n",
       "4  Classification And Regression Tree   1.000000  0.805970   1.000000   \n",
       "6                       Random Forest   1.000000  0.828358   1.000000   \n",
       "5                    Regularised CART   0.919355  0.738806   0.966440   \n",
       "7                  Random Forest_tune   0.893548  0.828358   0.965026   \n",
       "3        Linear Discriminant Analysis   0.800000  0.820896   0.833522   \n",
       "0                 Logistic Regression   0.790323  0.820896   0.832155   \n",
       "1                         Naive Bayes   0.793548  0.791045   0.797511   \n",
       "\n",
       "   AUC_test       MAE       MSE      RMSE   TP   TN  FP  FN  \n",
       "2  0.760093  0.216418  0.216418  0.465207  102  208   0   0  \n",
       "4  0.781056  0.194030  0.194030  0.440488  102  208   0   0  \n",
       "6  0.851967  0.171642  0.171642  0.414297  102  208   0   0  \n",
       "5  0.682971  0.261194  0.261194  0.511071   81  204  21   4  \n",
       "7  0.834110  0.171642  0.171642  0.414297   73  204  29   4  \n",
       "3  0.809783  0.179104  0.179104  0.423207   57  191  45  17  \n",
       "0  0.817805  0.179104  0.179104  0.423207   53  192  49  16  \n",
       "1  0.780538  0.208955  0.208955  0.457116   51  195  51  13  "
      ]
     },
     "execution_count": 159,
     "metadata": {},
     "output_type": "execute_result"
    }
   ],
   "source": [
    "# Import pandas library\n",
    "import pandas as pd\n",
    "\n",
    "# initialize list of lists\n",
    "data = [\n",
    "        ['Logistic Regression'               ,Acc_Train_LR        ,Acc_Test_LR        ,AUC_train_LR        , AUC_test_LR        ,MAE_LR        ,MSE_LR        ,RMSE_LR        ,TP_LR,        TN_LR        ,FP_LR        ,FN_LR], \n",
    "        ['Naive Bayes'                       ,Acc_Train_NB        ,Acc_Test_NB        ,AUC_train_NB        , AUC_test_NB        ,MAE_NB        ,MSE_NB        ,RMSE_NB        ,TP_NB        ,TN_NB        ,FP_NB        ,FN_NB], \n",
    "        ['k-Nearest Neighbour'               ,Acc_Train_kNN       ,Acc_Test_kNN       ,AUC_train_kNN       , AUC_test_kNN       ,MAE_kNN       ,MSE_kNN       ,RMSE_kNN       ,TP_kNN       ,TN_kNN       ,FP_kNN       ,FN_kNN], \n",
    "        ['Linear Discriminant Analysis'      ,Acc_Train_LDA       ,Acc_Test_LDA       ,AUC_train_LDA       , AUC_test_LDA       ,MAE_LDA       ,MSE_LDA       ,RMSE_LDA       ,TP_LDA       ,TN_LDA       ,FP_LDA       ,FN_LDA],\n",
    "        ['Classification And Regression Tree',Acc_Train_CART      ,Acc_Test_CART      ,AUC_train_CART      , AUC_test_CART      ,MAE_CART      ,MSE_CART      ,RMSE_CART      ,TP_CART      ,TN_CART      ,FP_CART      ,FN_CART],\n",
    "        ['Regularised CART'                  ,Acc_Train_CART_reg  ,Acc_Test_CART_reg  ,AUC_train_CART_reg  , AUC_test_CART_reg  ,MAE_CART_reg  ,MSE_CART_reg  ,RMSE_CART_reg  ,TP_CART_reg  ,TN_CART_reg  ,FP_CART_reg  ,FN_CART_reg],\n",
    "        ['Random Forest'                     ,Acc_Train_RF        ,Acc_Test_RF        ,AUC_train_RF        , AUC_test_RF        ,MAE_RF        ,MSE_RF        ,RMSE_RF        ,TP_RF        ,TN_RF        ,FP_RF,FN_RF] ,\n",
    "        ['Random Forest_tune'                ,Acc_Train_RF_tune   ,Acc_Test_RF_tune   ,AUC_train_RF_tune   , AUC_test_RF_tune   ,MAE_RF_tune   ,MSE_RF_tune   ,RMSE_RF_tune   ,TP_RF_tune   ,TN_RF_tune   ,FP_RF_tune   ,FN_RF_tune]\n",
    "       ]\n",
    "# Create the pandas DataFrame\n",
    "Model_Performance = pd.DataFrame(data,columns=['Model',\"Acc_Train\",\"Acc_Test\",\"AUC_train\", \"AUC_test\",'MAE','MSE','RMSE',\"TP\",'TN','FP','FN'])\n",
    "\n",
    "# print dataframe.\n",
    "Model_Performance.sort_values(by=\"FP\",ascending=True)\n"
   ]
  },
  {
   "cell_type": "code",
   "execution_count": null,
   "id": "67f435ab",
   "metadata": {},
   "outputs": [],
   "source": []
  }
 ],
 "metadata": {
  "kernelspec": {
   "display_name": "Python 3 (ipykernel)",
   "language": "python",
   "name": "python3"
  },
  "language_info": {
   "codemirror_mode": {
    "name": "ipython",
    "version": 3
   },
   "file_extension": ".py",
   "mimetype": "text/x-python",
   "name": "python",
   "nbconvert_exporter": "python",
   "pygments_lexer": "ipython3",
   "version": "3.9.7"
  }
 },
 "nbformat": 4,
 "nbformat_minor": 5
}
